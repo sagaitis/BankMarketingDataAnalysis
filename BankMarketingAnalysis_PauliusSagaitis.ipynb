{
 "cells": [
  {
   "cell_type": "markdown",
   "id": "4f52b859",
   "metadata": {},
   "source": [
    "# Bank Marketing Data Analysis"
   ]
  },
  {
   "cell_type": "markdown",
   "id": "c14d4561",
   "metadata": {},
   "source": [
    "### Importing modules"
   ]
  },
  {
   "cell_type": "code",
   "execution_count": 1,
   "id": "9b89db1d",
   "metadata": {},
   "outputs": [],
   "source": [
    "import pandas as pd\n",
    "import numpy as np\n",
    "import matplotlib.pyplot as plt\n",
    "import seaborn as sns"
   ]
  },
  {
   "cell_type": "markdown",
   "id": "c317704d",
   "metadata": {},
   "source": [
    "## 1. Importing the data"
   ]
  },
  {
   "cell_type": "markdown",
   "id": "11a095f5",
   "metadata": {},
   "source": [
    "<h3>Datasets:</h3>\n",
    "\n",
    "<ol>\n",
    "  <li><strong>bank-additional-full.csv</strong>: Contains all examples, ordered by date (from May 2008 to November 2010) including social and economic context attributes.</li>\n",
    "  <li><strong>bank-additional.csv</strong>: Contains 10% of the examples (4521), randomly selected from <code>bank-additional-full.csv</code>.</li>\n",
    "    <li><code>bank-full.csv</code> and <code>bank.csv</code>: Similar to the previous datasets but without the social and economic context columns.</li>\n",
    "</ol>\n",
    "\n",
    "<p> I will use <code>bank-additional-full.csv</code> for the analysis.</p>"
   ]
  },
  {
   "cell_type": "code",
   "execution_count": 2,
   "id": "5593c111",
   "metadata": {},
   "outputs": [
    {
     "data": {
      "text/html": [
       "<div>\n",
       "<style scoped>\n",
       "    .dataframe tbody tr th:only-of-type {\n",
       "        vertical-align: middle;\n",
       "    }\n",
       "\n",
       "    .dataframe tbody tr th {\n",
       "        vertical-align: top;\n",
       "    }\n",
       "\n",
       "    .dataframe thead th {\n",
       "        text-align: right;\n",
       "    }\n",
       "</style>\n",
       "<table border=\"1\" class=\"dataframe\">\n",
       "  <thead>\n",
       "    <tr style=\"text-align: right;\">\n",
       "      <th></th>\n",
       "      <th>age;\"job\";\"marital\";\"education\";\"default\";\"housing\";\"loan\";\"contact\";\"month\";\"day_of_week\";\"duration\";\"campaign\";\"pdays\";\"previous\";\"poutcome\";\"emp.var.rate\";\"cons.price.idx\";\"cons.conf.idx\";\"euribor3m\";\"nr.employed\";\"y\"</th>\n",
       "    </tr>\n",
       "  </thead>\n",
       "  <tbody>\n",
       "    <tr>\n",
       "      <th>0</th>\n",
       "      <td>56;\"housemaid\";\"married\";\"basic.4y\";\"no\";\"no\";...</td>\n",
       "    </tr>\n",
       "    <tr>\n",
       "      <th>1</th>\n",
       "      <td>57;\"services\";\"married\";\"high.school\";\"unknown...</td>\n",
       "    </tr>\n",
       "    <tr>\n",
       "      <th>2</th>\n",
       "      <td>37;\"services\";\"married\";\"high.school\";\"no\";\"ye...</td>\n",
       "    </tr>\n",
       "    <tr>\n",
       "      <th>3</th>\n",
       "      <td>40;\"admin.\";\"married\";\"basic.6y\";\"no\";\"no\";\"no...</td>\n",
       "    </tr>\n",
       "    <tr>\n",
       "      <th>4</th>\n",
       "      <td>56;\"services\";\"married\";\"high.school\";\"no\";\"no...</td>\n",
       "    </tr>\n",
       "  </tbody>\n",
       "</table>\n",
       "</div>"
      ],
      "text/plain": [
       "  age;\"job\";\"marital\";\"education\";\"default\";\"housing\";\"loan\";\"contact\";\"month\";\"day_of_week\";\"duration\";\"campaign\";\"pdays\";\"previous\";\"poutcome\";\"emp.var.rate\";\"cons.price.idx\";\"cons.conf.idx\";\"euribor3m\";\"nr.employed\";\"y\"\n",
       "0  56;\"housemaid\";\"married\";\"basic.4y\";\"no\";\"no\";...                                                                                                                                                                          \n",
       "1  57;\"services\";\"married\";\"high.school\";\"unknown...                                                                                                                                                                          \n",
       "2  37;\"services\";\"married\";\"high.school\";\"no\";\"ye...                                                                                                                                                                          \n",
       "3  40;\"admin.\";\"married\";\"basic.6y\";\"no\";\"no\";\"no...                                                                                                                                                                          \n",
       "4  56;\"services\";\"married\";\"high.school\";\"no\";\"no...                                                                                                                                                                          "
      ]
     },
     "execution_count": 2,
     "metadata": {},
     "output_type": "execute_result"
    }
   ],
   "source": [
    "bank_df = pd.read_csv('bank-additional-full.csv')\n",
    "bank_df.head(5)"
   ]
  },
  {
   "cell_type": "code",
   "execution_count": 3,
   "id": "6affebed",
   "metadata": {
    "scrolled": true
   },
   "outputs": [
    {
     "data": {
      "text/plain": [
       "<bound method DataFrame.info of       age;\"job\";\"marital\";\"education\";\"default\";\"housing\";\"loan\";\"contact\";\"month\";\"day_of_week\";\"duration\";\"campaign\";\"pdays\";\"previous\";\"poutcome\";\"emp.var.rate\";\"cons.price.idx\";\"cons.conf.idx\";\"euribor3m\";\"nr.employed\";\"y\"\n",
       "0      56;\"housemaid\";\"married\";\"basic.4y\";\"no\";\"no\";...                                                                                                                                                                          \n",
       "1      57;\"services\";\"married\";\"high.school\";\"unknown...                                                                                                                                                                          \n",
       "2      37;\"services\";\"married\";\"high.school\";\"no\";\"ye...                                                                                                                                                                          \n",
       "3      40;\"admin.\";\"married\";\"basic.6y\";\"no\";\"no\";\"no...                                                                                                                                                                          \n",
       "4      56;\"services\";\"married\";\"high.school\";\"no\";\"no...                                                                                                                                                                          \n",
       "...                                                  ...                                                                                                                                                                          \n",
       "41183  73;\"retired\";\"married\";\"professional.course\";\"...                                                                                                                                                                          \n",
       "41184  46;\"blue-collar\";\"married\";\"professional.cours...                                                                                                                                                                          \n",
       "41185  56;\"retired\";\"married\";\"university.degree\";\"no...                                                                                                                                                                          \n",
       "41186  44;\"technician\";\"married\";\"professional.course...                                                                                                                                                                          \n",
       "41187  74;\"retired\";\"married\";\"professional.course\";\"...                                                                                                                                                                          \n",
       "\n",
       "[41188 rows x 1 columns]>"
      ]
     },
     "execution_count": 3,
     "metadata": {},
     "output_type": "execute_result"
    }
   ],
   "source": [
    "bank_df.info"
   ]
  },
  {
   "cell_type": "markdown",
   "id": "4dd6a53c",
   "metadata": {},
   "source": [
    "The csv file has all values in one column so I need to split it first."
   ]
  },
  {
   "cell_type": "code",
   "execution_count": 4,
   "id": "490f6073",
   "metadata": {},
   "outputs": [
    {
     "data": {
      "text/html": [
       "<div>\n",
       "<style scoped>\n",
       "    .dataframe tbody tr th:only-of-type {\n",
       "        vertical-align: middle;\n",
       "    }\n",
       "\n",
       "    .dataframe tbody tr th {\n",
       "        vertical-align: top;\n",
       "    }\n",
       "\n",
       "    .dataframe thead th {\n",
       "        text-align: right;\n",
       "    }\n",
       "</style>\n",
       "<table border=\"1\" class=\"dataframe\">\n",
       "  <thead>\n",
       "    <tr style=\"text-align: right;\">\n",
       "      <th></th>\n",
       "      <th>age</th>\n",
       "      <th>job</th>\n",
       "      <th>marital</th>\n",
       "      <th>education</th>\n",
       "      <th>default</th>\n",
       "      <th>housing</th>\n",
       "      <th>loan</th>\n",
       "      <th>contact</th>\n",
       "      <th>month</th>\n",
       "      <th>day_of_week</th>\n",
       "      <th>...</th>\n",
       "      <th>campaign</th>\n",
       "      <th>pdays</th>\n",
       "      <th>previous</th>\n",
       "      <th>poutcome</th>\n",
       "      <th>emp.var.rate</th>\n",
       "      <th>cons.price.idx</th>\n",
       "      <th>cons.conf.idx</th>\n",
       "      <th>euribor3m</th>\n",
       "      <th>nr.employed</th>\n",
       "      <th>y</th>\n",
       "    </tr>\n",
       "  </thead>\n",
       "  <tbody>\n",
       "    <tr>\n",
       "      <th>0</th>\n",
       "      <td>56</td>\n",
       "      <td>\"housemaid\"</td>\n",
       "      <td>\"married\"</td>\n",
       "      <td>\"basic.4y\"</td>\n",
       "      <td>\"no\"</td>\n",
       "      <td>\"no\"</td>\n",
       "      <td>\"no\"</td>\n",
       "      <td>\"telephone\"</td>\n",
       "      <td>\"may\"</td>\n",
       "      <td>\"mon\"</td>\n",
       "      <td>...</td>\n",
       "      <td>1</td>\n",
       "      <td>999</td>\n",
       "      <td>0</td>\n",
       "      <td>\"nonexistent\"</td>\n",
       "      <td>1.1</td>\n",
       "      <td>93.994</td>\n",
       "      <td>-36.4</td>\n",
       "      <td>4.857</td>\n",
       "      <td>5191</td>\n",
       "      <td>\"no\"</td>\n",
       "    </tr>\n",
       "    <tr>\n",
       "      <th>1</th>\n",
       "      <td>57</td>\n",
       "      <td>\"services\"</td>\n",
       "      <td>\"married\"</td>\n",
       "      <td>\"high.school\"</td>\n",
       "      <td>\"unknown\"</td>\n",
       "      <td>\"no\"</td>\n",
       "      <td>\"no\"</td>\n",
       "      <td>\"telephone\"</td>\n",
       "      <td>\"may\"</td>\n",
       "      <td>\"mon\"</td>\n",
       "      <td>...</td>\n",
       "      <td>1</td>\n",
       "      <td>999</td>\n",
       "      <td>0</td>\n",
       "      <td>\"nonexistent\"</td>\n",
       "      <td>1.1</td>\n",
       "      <td>93.994</td>\n",
       "      <td>-36.4</td>\n",
       "      <td>4.857</td>\n",
       "      <td>5191</td>\n",
       "      <td>\"no\"</td>\n",
       "    </tr>\n",
       "    <tr>\n",
       "      <th>2</th>\n",
       "      <td>37</td>\n",
       "      <td>\"services\"</td>\n",
       "      <td>\"married\"</td>\n",
       "      <td>\"high.school\"</td>\n",
       "      <td>\"no\"</td>\n",
       "      <td>\"yes\"</td>\n",
       "      <td>\"no\"</td>\n",
       "      <td>\"telephone\"</td>\n",
       "      <td>\"may\"</td>\n",
       "      <td>\"mon\"</td>\n",
       "      <td>...</td>\n",
       "      <td>1</td>\n",
       "      <td>999</td>\n",
       "      <td>0</td>\n",
       "      <td>\"nonexistent\"</td>\n",
       "      <td>1.1</td>\n",
       "      <td>93.994</td>\n",
       "      <td>-36.4</td>\n",
       "      <td>4.857</td>\n",
       "      <td>5191</td>\n",
       "      <td>\"no\"</td>\n",
       "    </tr>\n",
       "    <tr>\n",
       "      <th>3</th>\n",
       "      <td>40</td>\n",
       "      <td>\"admin.\"</td>\n",
       "      <td>\"married\"</td>\n",
       "      <td>\"basic.6y\"</td>\n",
       "      <td>\"no\"</td>\n",
       "      <td>\"no\"</td>\n",
       "      <td>\"no\"</td>\n",
       "      <td>\"telephone\"</td>\n",
       "      <td>\"may\"</td>\n",
       "      <td>\"mon\"</td>\n",
       "      <td>...</td>\n",
       "      <td>1</td>\n",
       "      <td>999</td>\n",
       "      <td>0</td>\n",
       "      <td>\"nonexistent\"</td>\n",
       "      <td>1.1</td>\n",
       "      <td>93.994</td>\n",
       "      <td>-36.4</td>\n",
       "      <td>4.857</td>\n",
       "      <td>5191</td>\n",
       "      <td>\"no\"</td>\n",
       "    </tr>\n",
       "    <tr>\n",
       "      <th>4</th>\n",
       "      <td>56</td>\n",
       "      <td>\"services\"</td>\n",
       "      <td>\"married\"</td>\n",
       "      <td>\"high.school\"</td>\n",
       "      <td>\"no\"</td>\n",
       "      <td>\"no\"</td>\n",
       "      <td>\"yes\"</td>\n",
       "      <td>\"telephone\"</td>\n",
       "      <td>\"may\"</td>\n",
       "      <td>\"mon\"</td>\n",
       "      <td>...</td>\n",
       "      <td>1</td>\n",
       "      <td>999</td>\n",
       "      <td>0</td>\n",
       "      <td>\"nonexistent\"</td>\n",
       "      <td>1.1</td>\n",
       "      <td>93.994</td>\n",
       "      <td>-36.4</td>\n",
       "      <td>4.857</td>\n",
       "      <td>5191</td>\n",
       "      <td>\"no\"</td>\n",
       "    </tr>\n",
       "    <tr>\n",
       "      <th>...</th>\n",
       "      <td>...</td>\n",
       "      <td>...</td>\n",
       "      <td>...</td>\n",
       "      <td>...</td>\n",
       "      <td>...</td>\n",
       "      <td>...</td>\n",
       "      <td>...</td>\n",
       "      <td>...</td>\n",
       "      <td>...</td>\n",
       "      <td>...</td>\n",
       "      <td>...</td>\n",
       "      <td>...</td>\n",
       "      <td>...</td>\n",
       "      <td>...</td>\n",
       "      <td>...</td>\n",
       "      <td>...</td>\n",
       "      <td>...</td>\n",
       "      <td>...</td>\n",
       "      <td>...</td>\n",
       "      <td>...</td>\n",
       "      <td>...</td>\n",
       "    </tr>\n",
       "    <tr>\n",
       "      <th>41183</th>\n",
       "      <td>73</td>\n",
       "      <td>\"retired\"</td>\n",
       "      <td>\"married\"</td>\n",
       "      <td>\"professional.course\"</td>\n",
       "      <td>\"no\"</td>\n",
       "      <td>\"yes\"</td>\n",
       "      <td>\"no\"</td>\n",
       "      <td>\"cellular\"</td>\n",
       "      <td>\"nov\"</td>\n",
       "      <td>\"fri\"</td>\n",
       "      <td>...</td>\n",
       "      <td>1</td>\n",
       "      <td>999</td>\n",
       "      <td>0</td>\n",
       "      <td>\"nonexistent\"</td>\n",
       "      <td>-1.1</td>\n",
       "      <td>94.767</td>\n",
       "      <td>-50.8</td>\n",
       "      <td>1.028</td>\n",
       "      <td>4963.6</td>\n",
       "      <td>\"yes\"</td>\n",
       "    </tr>\n",
       "    <tr>\n",
       "      <th>41184</th>\n",
       "      <td>46</td>\n",
       "      <td>\"blue-collar\"</td>\n",
       "      <td>\"married\"</td>\n",
       "      <td>\"professional.course\"</td>\n",
       "      <td>\"no\"</td>\n",
       "      <td>\"no\"</td>\n",
       "      <td>\"no\"</td>\n",
       "      <td>\"cellular\"</td>\n",
       "      <td>\"nov\"</td>\n",
       "      <td>\"fri\"</td>\n",
       "      <td>...</td>\n",
       "      <td>1</td>\n",
       "      <td>999</td>\n",
       "      <td>0</td>\n",
       "      <td>\"nonexistent\"</td>\n",
       "      <td>-1.1</td>\n",
       "      <td>94.767</td>\n",
       "      <td>-50.8</td>\n",
       "      <td>1.028</td>\n",
       "      <td>4963.6</td>\n",
       "      <td>\"no\"</td>\n",
       "    </tr>\n",
       "    <tr>\n",
       "      <th>41185</th>\n",
       "      <td>56</td>\n",
       "      <td>\"retired\"</td>\n",
       "      <td>\"married\"</td>\n",
       "      <td>\"university.degree\"</td>\n",
       "      <td>\"no\"</td>\n",
       "      <td>\"yes\"</td>\n",
       "      <td>\"no\"</td>\n",
       "      <td>\"cellular\"</td>\n",
       "      <td>\"nov\"</td>\n",
       "      <td>\"fri\"</td>\n",
       "      <td>...</td>\n",
       "      <td>2</td>\n",
       "      <td>999</td>\n",
       "      <td>0</td>\n",
       "      <td>\"nonexistent\"</td>\n",
       "      <td>-1.1</td>\n",
       "      <td>94.767</td>\n",
       "      <td>-50.8</td>\n",
       "      <td>1.028</td>\n",
       "      <td>4963.6</td>\n",
       "      <td>\"no\"</td>\n",
       "    </tr>\n",
       "    <tr>\n",
       "      <th>41186</th>\n",
       "      <td>44</td>\n",
       "      <td>\"technician\"</td>\n",
       "      <td>\"married\"</td>\n",
       "      <td>\"professional.course\"</td>\n",
       "      <td>\"no\"</td>\n",
       "      <td>\"no\"</td>\n",
       "      <td>\"no\"</td>\n",
       "      <td>\"cellular\"</td>\n",
       "      <td>\"nov\"</td>\n",
       "      <td>\"fri\"</td>\n",
       "      <td>...</td>\n",
       "      <td>1</td>\n",
       "      <td>999</td>\n",
       "      <td>0</td>\n",
       "      <td>\"nonexistent\"</td>\n",
       "      <td>-1.1</td>\n",
       "      <td>94.767</td>\n",
       "      <td>-50.8</td>\n",
       "      <td>1.028</td>\n",
       "      <td>4963.6</td>\n",
       "      <td>\"yes\"</td>\n",
       "    </tr>\n",
       "    <tr>\n",
       "      <th>41187</th>\n",
       "      <td>74</td>\n",
       "      <td>\"retired\"</td>\n",
       "      <td>\"married\"</td>\n",
       "      <td>\"professional.course\"</td>\n",
       "      <td>\"no\"</td>\n",
       "      <td>\"yes\"</td>\n",
       "      <td>\"no\"</td>\n",
       "      <td>\"cellular\"</td>\n",
       "      <td>\"nov\"</td>\n",
       "      <td>\"fri\"</td>\n",
       "      <td>...</td>\n",
       "      <td>3</td>\n",
       "      <td>999</td>\n",
       "      <td>1</td>\n",
       "      <td>\"failure\"</td>\n",
       "      <td>-1.1</td>\n",
       "      <td>94.767</td>\n",
       "      <td>-50.8</td>\n",
       "      <td>1.028</td>\n",
       "      <td>4963.6</td>\n",
       "      <td>\"no\"</td>\n",
       "    </tr>\n",
       "  </tbody>\n",
       "</table>\n",
       "<p>41188 rows × 21 columns</p>\n",
       "</div>"
      ],
      "text/plain": [
       "      age            job    marital              education    default housing  \\\n",
       "0      56    \"housemaid\"  \"married\"             \"basic.4y\"       \"no\"    \"no\"   \n",
       "1      57     \"services\"  \"married\"          \"high.school\"  \"unknown\"    \"no\"   \n",
       "2      37     \"services\"  \"married\"          \"high.school\"       \"no\"   \"yes\"   \n",
       "3      40       \"admin.\"  \"married\"             \"basic.6y\"       \"no\"    \"no\"   \n",
       "4      56     \"services\"  \"married\"          \"high.school\"       \"no\"    \"no\"   \n",
       "...    ..            ...        ...                    ...        ...     ...   \n",
       "41183  73      \"retired\"  \"married\"  \"professional.course\"       \"no\"   \"yes\"   \n",
       "41184  46  \"blue-collar\"  \"married\"  \"professional.course\"       \"no\"    \"no\"   \n",
       "41185  56      \"retired\"  \"married\"    \"university.degree\"       \"no\"   \"yes\"   \n",
       "41186  44   \"technician\"  \"married\"  \"professional.course\"       \"no\"    \"no\"   \n",
       "41187  74      \"retired\"  \"married\"  \"professional.course\"       \"no\"   \"yes\"   \n",
       "\n",
       "        loan      contact  month day_of_week  ... campaign pdays previous  \\\n",
       "0       \"no\"  \"telephone\"  \"may\"       \"mon\"  ...        1   999        0   \n",
       "1       \"no\"  \"telephone\"  \"may\"       \"mon\"  ...        1   999        0   \n",
       "2       \"no\"  \"telephone\"  \"may\"       \"mon\"  ...        1   999        0   \n",
       "3       \"no\"  \"telephone\"  \"may\"       \"mon\"  ...        1   999        0   \n",
       "4      \"yes\"  \"telephone\"  \"may\"       \"mon\"  ...        1   999        0   \n",
       "...      ...          ...    ...         ...  ...      ...   ...      ...   \n",
       "41183   \"no\"   \"cellular\"  \"nov\"       \"fri\"  ...        1   999        0   \n",
       "41184   \"no\"   \"cellular\"  \"nov\"       \"fri\"  ...        1   999        0   \n",
       "41185   \"no\"   \"cellular\"  \"nov\"       \"fri\"  ...        2   999        0   \n",
       "41186   \"no\"   \"cellular\"  \"nov\"       \"fri\"  ...        1   999        0   \n",
       "41187   \"no\"   \"cellular\"  \"nov\"       \"fri\"  ...        3   999        1   \n",
       "\n",
       "            poutcome emp.var.rate cons.price.idx cons.conf.idx euribor3m  \\\n",
       "0      \"nonexistent\"          1.1         93.994         -36.4     4.857   \n",
       "1      \"nonexistent\"          1.1         93.994         -36.4     4.857   \n",
       "2      \"nonexistent\"          1.1         93.994         -36.4     4.857   \n",
       "3      \"nonexistent\"          1.1         93.994         -36.4     4.857   \n",
       "4      \"nonexistent\"          1.1         93.994         -36.4     4.857   \n",
       "...              ...          ...            ...           ...       ...   \n",
       "41183  \"nonexistent\"         -1.1         94.767         -50.8     1.028   \n",
       "41184  \"nonexistent\"         -1.1         94.767         -50.8     1.028   \n",
       "41185  \"nonexistent\"         -1.1         94.767         -50.8     1.028   \n",
       "41186  \"nonexistent\"         -1.1         94.767         -50.8     1.028   \n",
       "41187      \"failure\"         -1.1         94.767         -50.8     1.028   \n",
       "\n",
       "      nr.employed      y  \n",
       "0            5191   \"no\"  \n",
       "1            5191   \"no\"  \n",
       "2            5191   \"no\"  \n",
       "3            5191   \"no\"  \n",
       "4            5191   \"no\"  \n",
       "...           ...    ...  \n",
       "41183      4963.6  \"yes\"  \n",
       "41184      4963.6   \"no\"  \n",
       "41185      4963.6   \"no\"  \n",
       "41186      4963.6  \"yes\"  \n",
       "41187      4963.6   \"no\"  \n",
       "\n",
       "[41188 rows x 21 columns]"
      ]
     },
     "execution_count": 4,
     "metadata": {},
     "output_type": "execute_result"
    }
   ],
   "source": [
    "bank_df = bank_df.iloc[:, 0].str.split(';', expand=True)\n",
    "bank_df.columns = [\n",
    "    \"age\", \"job\", \"marital\", \"education\", \"default\", \"housing\", \"loan\", \n",
    "    \"contact\", \"month\", \"day_of_week\", \"duration\", \"campaign\", \"pdays\", \"previous\", \"poutcome\",\n",
    "    \"emp.var.rate\", \"cons.price.idx\", \"cons.conf.idx\", \"euribor3m\", \"nr.employed\", \"y\"\n",
    "]\n",
    "bank_df"
   ]
  },
  {
   "cell_type": "markdown",
   "id": "fb521abc",
   "metadata": {},
   "source": [
    "The dataset contains the correct amount of 21 columns and around 41k rows.<br><br>\n",
    "Now I can move on to data preparation."
   ]
  },
  {
   "cell_type": "markdown",
   "id": "7ff97f06",
   "metadata": {},
   "source": [
    "## 2. Data Preparation and Cleaning"
   ]
  },
  {
   "cell_type": "markdown",
   "id": "f5f85e5f",
   "metadata": {},
   "source": [
    "First I'll look at the data types and value counts of each column to determine which columns need to be converted."
   ]
  },
  {
   "cell_type": "code",
   "execution_count": 5,
   "id": "ae5842ed",
   "metadata": {
    "scrolled": false
   },
   "outputs": [
    {
     "data": {
      "text/plain": [
       "age               object\n",
       "job               object\n",
       "marital           object\n",
       "education         object\n",
       "default           object\n",
       "housing           object\n",
       "loan              object\n",
       "contact           object\n",
       "month             object\n",
       "day_of_week       object\n",
       "duration          object\n",
       "campaign          object\n",
       "pdays             object\n",
       "previous          object\n",
       "poutcome          object\n",
       "emp.var.rate      object\n",
       "cons.price.idx    object\n",
       "cons.conf.idx     object\n",
       "euribor3m         object\n",
       "nr.employed       object\n",
       "y                 object\n",
       "dtype: object"
      ]
     },
     "execution_count": 5,
     "metadata": {},
     "output_type": "execute_result"
    }
   ],
   "source": [
    "bank_df.dtypes"
   ]
  },
  {
   "cell_type": "markdown",
   "id": "87b90c47",
   "metadata": {},
   "source": [
    "All of the columns are objects, some columns need conversion. <br>\n",
    "Let's check for nulls."
   ]
  },
  {
   "cell_type": "code",
   "execution_count": 6,
   "id": "827c9e6f",
   "metadata": {},
   "outputs": [
    {
     "data": {
      "text/plain": [
       "age               0\n",
       "job               0\n",
       "marital           0\n",
       "education         0\n",
       "default           0\n",
       "housing           0\n",
       "loan              0\n",
       "contact           0\n",
       "month             0\n",
       "day_of_week       0\n",
       "duration          0\n",
       "campaign          0\n",
       "pdays             0\n",
       "previous          0\n",
       "poutcome          0\n",
       "emp.var.rate      0\n",
       "cons.price.idx    0\n",
       "cons.conf.idx     0\n",
       "euribor3m         0\n",
       "nr.employed       0\n",
       "y                 0\n",
       "dtype: int64"
      ]
     },
     "execution_count": 6,
     "metadata": {},
     "output_type": "execute_result"
    }
   ],
   "source": [
    "bank_df.isna().sum()"
   ]
  },
  {
   "cell_type": "markdown",
   "id": "4a66f6af",
   "metadata": {},
   "source": [
    "No nulls so let's go over the columns one by one starting with 'age'."
   ]
  },
  {
   "cell_type": "code",
   "execution_count": 7,
   "id": "95431d7d",
   "metadata": {},
   "outputs": [
    {
     "data": {
      "text/plain": [
       "17"
      ]
     },
     "execution_count": 7,
     "metadata": {},
     "output_type": "execute_result"
    }
   ],
   "source": [
    "bank_df['age'] = bank_df['age'].astype(int)\n",
    "\n",
    "bank_df['age'].min()"
   ]
  },
  {
   "cell_type": "code",
   "execution_count": 8,
   "id": "a64f162d",
   "metadata": {},
   "outputs": [
    {
     "data": {
      "text/plain": [
       "98"
      ]
     },
     "execution_count": 8,
     "metadata": {},
     "output_type": "execute_result"
    }
   ],
   "source": [
    "bank_df['age'].max()"
   ]
  },
  {
   "cell_type": "markdown",
   "id": "df54b003",
   "metadata": {},
   "source": [
    "The 'age' column is converted successfully.<br>\n",
    "The 'job' column is next."
   ]
  },
  {
   "cell_type": "code",
   "execution_count": 9,
   "id": "cef41d28",
   "metadata": {
    "scrolled": true
   },
   "outputs": [
    {
     "data": {
      "text/plain": [
       "job\n",
       "\"admin.\"           10422\n",
       "\"blue-collar\"       9254\n",
       "\"technician\"        6743\n",
       "\"services\"          3969\n",
       "\"management\"        2924\n",
       "\"retired\"           1720\n",
       "\"entrepreneur\"      1456\n",
       "\"self-employed\"     1421\n",
       "\"housemaid\"         1060\n",
       "\"unemployed\"        1014\n",
       "\"student\"            875\n",
       "\"unknown\"            330\n",
       "Name: count, dtype: int64"
      ]
     },
     "execution_count": 9,
     "metadata": {},
     "output_type": "execute_result"
    }
   ],
   "source": [
    "bank_df['job'].value_counts()"
   ]
  },
  {
   "cell_type": "markdown",
   "id": "c5321e11",
   "metadata": {},
   "source": [
    "Let's drop the quotes, capitalize and change \"unknown\" to <strong> NaN </strong>, also remove the dot from 'Admin'."
   ]
  },
  {
   "cell_type": "code",
   "execution_count": 10,
   "id": "15d32b61",
   "metadata": {},
   "outputs": [
    {
     "data": {
      "text/plain": [
       "job\n",
       "Admin            10422\n",
       "Blue-collar       9254\n",
       "Technician        6743\n",
       "Services          3969\n",
       "Management        2924\n",
       "Retired           1720\n",
       "Entrepreneur      1456\n",
       "Self-employed     1421\n",
       "Housemaid         1060\n",
       "Unemployed        1014\n",
       "Student            875\n",
       "Name: count, dtype: int64"
      ]
     },
     "execution_count": 10,
     "metadata": {},
     "output_type": "execute_result"
    }
   ],
   "source": [
    "bank_df['job'] = bank_df['job'].str.replace('\"', '').str.capitalize()\n",
    "bank_df['job'] = bank_df['job'].str.replace('.', '')\n",
    "\n",
    "bank_df['job'].replace('Unknown', np.nan, inplace=True)\n",
    "\n",
    "bank_df['job'].value_counts()"
   ]
  },
  {
   "cell_type": "code",
   "execution_count": 11,
   "id": "019abf35",
   "metadata": {},
   "outputs": [
    {
     "data": {
      "text/plain": [
       "330"
      ]
     },
     "execution_count": 11,
     "metadata": {},
     "output_type": "execute_result"
    }
   ],
   "source": [
    "bank_df['job'].isna().sum()"
   ]
  },
  {
   "cell_type": "markdown",
   "id": "6d66ab49",
   "metadata": {},
   "source": [
    "Good, this will provide consistency and simplified data handling.<br>\n",
    "Next is 'marital'."
   ]
  },
  {
   "cell_type": "code",
   "execution_count": 12,
   "id": "9b9d425a",
   "metadata": {},
   "outputs": [
    {
     "data": {
      "text/plain": [
       "marital\n",
       "\"married\"     24928\n",
       "\"single\"      11568\n",
       "\"divorced\"     4612\n",
       "\"unknown\"        80\n",
       "Name: count, dtype: int64"
      ]
     },
     "execution_count": 12,
     "metadata": {},
     "output_type": "execute_result"
    }
   ],
   "source": [
    "bank_df['marital'].value_counts()"
   ]
  },
  {
   "cell_type": "code",
   "execution_count": 13,
   "id": "e6c9076a",
   "metadata": {},
   "outputs": [
    {
     "data": {
      "text/plain": [
       "marital\n",
       "Married     24928\n",
       "Single      11568\n",
       "Divorced     4612\n",
       "Name: count, dtype: int64"
      ]
     },
     "execution_count": 13,
     "metadata": {},
     "output_type": "execute_result"
    }
   ],
   "source": [
    "bank_df['marital'] = bank_df['marital'].str.replace('\"', '').str.capitalize()\n",
    "\n",
    "bank_df['marital'].replace('Unknown', np.nan, inplace=True)\n",
    "\n",
    "bank_df['marital'].value_counts()"
   ]
  },
  {
   "cell_type": "markdown",
   "id": "7d3de083",
   "metadata": {},
   "source": [
    "Next is 'education'."
   ]
  },
  {
   "cell_type": "code",
   "execution_count": 14,
   "id": "0c2356dc",
   "metadata": {},
   "outputs": [
    {
     "data": {
      "text/plain": [
       "education\n",
       "\"university.degree\"      12168\n",
       "\"high.school\"             9515\n",
       "\"basic.9y\"                6045\n",
       "\"professional.course\"     5243\n",
       "\"basic.4y\"                4176\n",
       "\"basic.6y\"                2292\n",
       "\"unknown\"                 1731\n",
       "\"illiterate\"                18\n",
       "Name: count, dtype: int64"
      ]
     },
     "execution_count": 14,
     "metadata": {},
     "output_type": "execute_result"
    }
   ],
   "source": [
    "bank_df['education'].value_counts()"
   ]
  },
  {
   "cell_type": "code",
   "execution_count": 15,
   "id": "964ee5f1",
   "metadata": {
    "scrolled": true
   },
   "outputs": [
    {
     "data": {
      "text/plain": [
       "education\n",
       "University degree      12168\n",
       "High school             9515\n",
       "Basic 9y                6045\n",
       "Professional course     5243\n",
       "Basic 4y                4176\n",
       "Basic 6y                2292\n",
       "Illiterate                18\n",
       "Name: count, dtype: int64"
      ]
     },
     "execution_count": 15,
     "metadata": {},
     "output_type": "execute_result"
    }
   ],
   "source": [
    "bank_df['education'] = bank_df['education'].str.replace('.', ' ')\n",
    "bank_df['education'] = bank_df['education'].str.replace('\"', '').str.capitalize()\n",
    "\n",
    "bank_df['education'].replace('Unknown', np.nan, inplace=True)\n",
    "\n",
    "bank_df['education'].value_counts()"
   ]
  },
  {
   "cell_type": "markdown",
   "id": "e2545ba9",
   "metadata": {},
   "source": [
    "Next we have 'default'."
   ]
  },
  {
   "cell_type": "code",
   "execution_count": 16,
   "id": "7023880c",
   "metadata": {},
   "outputs": [
    {
     "data": {
      "text/plain": [
       "default\n",
       "\"no\"         32588\n",
       "\"unknown\"     8597\n",
       "\"yes\"            3\n",
       "Name: count, dtype: int64"
      ]
     },
     "execution_count": 16,
     "metadata": {},
     "output_type": "execute_result"
    }
   ],
   "source": [
    "bank_df['default'].value_counts()"
   ]
  },
  {
   "cell_type": "markdown",
   "id": "6c587ef9",
   "metadata": {},
   "source": [
    "Only three values of \"yes\" so unfortunately this column is essentially useless and can be dropped."
   ]
  },
  {
   "cell_type": "code",
   "execution_count": 17,
   "id": "d7f31114",
   "metadata": {},
   "outputs": [],
   "source": [
    "bank_df = bank_df.drop('default', axis = 1)"
   ]
  },
  {
   "cell_type": "markdown",
   "id": "c797070c",
   "metadata": {},
   "source": [
    "Next is 'housing'."
   ]
  },
  {
   "cell_type": "code",
   "execution_count": 18,
   "id": "e978c408",
   "metadata": {
    "scrolled": true
   },
   "outputs": [
    {
     "data": {
      "text/plain": [
       "housing\n",
       "\"yes\"        21576\n",
       "\"no\"         18622\n",
       "\"unknown\"      990\n",
       "Name: count, dtype: int64"
      ]
     },
     "execution_count": 18,
     "metadata": {},
     "output_type": "execute_result"
    }
   ],
   "source": [
    "bank_df['housing'].value_counts()"
   ]
  },
  {
   "cell_type": "markdown",
   "id": "626f04cc",
   "metadata": {},
   "source": [
    "I will encode 'no' as 0, 'yes' as 1 and again replace 'unknown' with <strong> NaN </strong>."
   ]
  },
  {
   "cell_type": "code",
   "execution_count": 19,
   "id": "7b05118b",
   "metadata": {
    "scrolled": true
   },
   "outputs": [
    {
     "data": {
      "text/plain": [
       "housing\n",
       "1.0    21576\n",
       "0.0    18622\n",
       "Name: count, dtype: int64"
      ]
     },
     "execution_count": 19,
     "metadata": {},
     "output_type": "execute_result"
    }
   ],
   "source": [
    "mapping_dict = {\n",
    "    '\"yes\"': 1,\n",
    "    '\"no\"': 0,\n",
    "    '\"unknown\"': np.nan\n",
    "}\n",
    "\n",
    "bank_df['housing'] = bank_df['housing'].replace(mapping_dict)\n",
    "\n",
    "bank_df['housing'].value_counts()"
   ]
  },
  {
   "cell_type": "markdown",
   "id": "4742b741",
   "metadata": {},
   "source": [
    "Next is 'loan'."
   ]
  },
  {
   "cell_type": "code",
   "execution_count": 20,
   "id": "8a4e5762",
   "metadata": {
    "scrolled": false
   },
   "outputs": [
    {
     "data": {
      "text/plain": [
       "loan\n",
       "\"no\"         33950\n",
       "\"yes\"         6248\n",
       "\"unknown\"      990\n",
       "Name: count, dtype: int64"
      ]
     },
     "execution_count": 20,
     "metadata": {},
     "output_type": "execute_result"
    }
   ],
   "source": [
    "bank_df['loan'].value_counts()"
   ]
  },
  {
   "cell_type": "markdown",
   "id": "ad66bede",
   "metadata": {},
   "source": [
    "Using the same mapping as before."
   ]
  },
  {
   "cell_type": "code",
   "execution_count": 21,
   "id": "62c19f03",
   "metadata": {},
   "outputs": [
    {
     "data": {
      "text/plain": [
       "loan\n",
       "0.0    33950\n",
       "1.0     6248\n",
       "Name: count, dtype: int64"
      ]
     },
     "execution_count": 21,
     "metadata": {},
     "output_type": "execute_result"
    }
   ],
   "source": [
    "bank_df['loan'] = bank_df['loan'].replace(mapping_dict)\n",
    "\n",
    "bank_df['loan'].value_counts()"
   ]
  },
  {
   "cell_type": "markdown",
   "id": "4caa3aee",
   "metadata": {},
   "source": [
    "Next is 'contact'."
   ]
  },
  {
   "cell_type": "code",
   "execution_count": 22,
   "id": "5bd1a09a",
   "metadata": {},
   "outputs": [
    {
     "data": {
      "text/plain": [
       "contact\n",
       "\"cellular\"     26144\n",
       "\"telephone\"    15044\n",
       "Name: count, dtype: int64"
      ]
     },
     "execution_count": 22,
     "metadata": {},
     "output_type": "execute_result"
    }
   ],
   "source": [
    "bank_df['contact'].value_counts()"
   ]
  },
  {
   "cell_type": "code",
   "execution_count": 23,
   "id": "cb4b439e",
   "metadata": {},
   "outputs": [
    {
     "data": {
      "text/plain": [
       "contact\n",
       "Cellular     26144\n",
       "Telephone    15044\n",
       "Name: count, dtype: int64"
      ]
     },
     "execution_count": 23,
     "metadata": {},
     "output_type": "execute_result"
    }
   ],
   "source": [
    "bank_df['contact'] = bank_df['contact'].str.replace('\"', '').str.capitalize()\n",
    "\n",
    "bank_df['contact'].value_counts()"
   ]
  },
  {
   "cell_type": "markdown",
   "id": "a108da6f",
   "metadata": {},
   "source": [
    "Next is 'month'."
   ]
  },
  {
   "cell_type": "code",
   "execution_count": 24,
   "id": "ad5c30ea",
   "metadata": {},
   "outputs": [
    {
     "data": {
      "text/plain": [
       "month\n",
       "\"may\"    13769\n",
       "\"jul\"     7174\n",
       "\"aug\"     6178\n",
       "\"jun\"     5318\n",
       "\"nov\"     4101\n",
       "\"apr\"     2632\n",
       "\"oct\"      718\n",
       "\"sep\"      570\n",
       "\"mar\"      546\n",
       "\"dec\"      182\n",
       "Name: count, dtype: int64"
      ]
     },
     "execution_count": 24,
     "metadata": {},
     "output_type": "execute_result"
    }
   ],
   "source": [
    "bank_df['month'].value_counts()"
   ]
  },
  {
   "cell_type": "code",
   "execution_count": 25,
   "id": "fcb4d039",
   "metadata": {
    "scrolled": true
   },
   "outputs": [
    {
     "data": {
      "text/plain": [
       "month\n",
       "May    13769\n",
       "Jul     7174\n",
       "Aug     6178\n",
       "Jun     5318\n",
       "Nov     4101\n",
       "Apr     2632\n",
       "Oct      718\n",
       "Sep      570\n",
       "Mar      546\n",
       "Dec      182\n",
       "Name: count, dtype: int64"
      ]
     },
     "execution_count": 25,
     "metadata": {},
     "output_type": "execute_result"
    }
   ],
   "source": [
    "bank_df['month'] = bank_df['month'].str.replace('\"', '').str.capitalize()\n",
    "bank_df['month'].value_counts()"
   ]
  },
  {
   "cell_type": "markdown",
   "id": "5649f55f",
   "metadata": {},
   "source": [
    "It's strange that this dataset was said to contain data for May 2008 to November 2010 and yet does not have values for January and February, however there is nothing we can do about that and will continue with 'day_of_week' next."
   ]
  },
  {
   "cell_type": "code",
   "execution_count": 26,
   "id": "fda849a7",
   "metadata": {},
   "outputs": [
    {
     "data": {
      "text/plain": [
       "day_of_week\n",
       "\"thu\"    8623\n",
       "\"mon\"    8514\n",
       "\"wed\"    8134\n",
       "\"tue\"    8090\n",
       "\"fri\"    7827\n",
       "Name: count, dtype: int64"
      ]
     },
     "execution_count": 26,
     "metadata": {},
     "output_type": "execute_result"
    }
   ],
   "source": [
    "bank_df['day_of_week'].value_counts()"
   ]
  },
  {
   "cell_type": "code",
   "execution_count": 27,
   "id": "1670a458",
   "metadata": {},
   "outputs": [
    {
     "data": {
      "text/plain": [
       "day_of_week\n",
       "Thu    8623\n",
       "Mon    8514\n",
       "Wed    8134\n",
       "Tue    8090\n",
       "Fri    7827\n",
       "Name: count, dtype: int64"
      ]
     },
     "execution_count": 27,
     "metadata": {},
     "output_type": "execute_result"
    }
   ],
   "source": [
    "bank_df['day_of_week'] = bank_df['day_of_week'].str.replace('\"', '').str.capitalize()\n",
    "bank_df['day_of_week'].value_counts()"
   ]
  },
  {
   "cell_type": "markdown",
   "id": "9491a1f2",
   "metadata": {},
   "source": [
    "Next we have 'duration'."
   ]
  },
  {
   "cell_type": "code",
   "execution_count": 28,
   "id": "c86f785b",
   "metadata": {},
   "outputs": [
    {
     "data": {
      "text/plain": [
       "True"
      ]
     },
     "execution_count": 28,
     "metadata": {},
     "output_type": "execute_result"
    }
   ],
   "source": [
    "bank_df['duration'] = bank_df['duration'].astype(float)\n",
    "\n",
    "all_integers = bank_df['duration'].apply(lambda x: x.is_integer()).all()\n",
    "all_integers"
   ]
  },
  {
   "cell_type": "code",
   "execution_count": 29,
   "id": "b61ec98e",
   "metadata": {},
   "outputs": [
    {
     "data": {
      "text/plain": [
       "4918"
      ]
     },
     "execution_count": 29,
     "metadata": {},
     "output_type": "execute_result"
    }
   ],
   "source": [
    "bank_df['duration'] = bank_df['duration'].astype(int)\n",
    "bank_df['duration'].max()"
   ]
  },
  {
   "cell_type": "markdown",
   "id": "160bcc23",
   "metadata": {},
   "source": [
    "The 'campaign' column contains the number of contacts performed with this client and needs to be cast as an integer."
   ]
  },
  {
   "cell_type": "code",
   "execution_count": 30,
   "id": "a16bdec5",
   "metadata": {},
   "outputs": [],
   "source": [
    "bank_df['campaign'] = bank_df['campaign'].astype(int)"
   ]
  },
  {
   "cell_type": "markdown",
   "id": "82c9856a",
   "metadata": {},
   "source": [
    "Next is 'pdays'. It's the number of days since previous campaign and also needs to be cast as an integer."
   ]
  },
  {
   "cell_type": "code",
   "execution_count": 31,
   "id": "4ce6540b",
   "metadata": {},
   "outputs": [
    {
     "data": {
      "text/plain": [
       "pdays\n",
       "999    39673\n",
       "22         3\n",
       "21         2\n",
       "25         1\n",
       "26         1\n",
       "Name: count, dtype: int64"
      ]
     },
     "execution_count": 31,
     "metadata": {},
     "output_type": "execute_result"
    }
   ],
   "source": [
    "bank_df['pdays'] = bank_df['pdays'].astype(int)\n",
    "top_pday = bank_df['pdays'][bank_df['pdays'] > 20]\n",
    "top_pday.value_counts().head(5)"
   ]
  },
  {
   "cell_type": "markdown",
   "id": "e94ccb0e",
   "metadata": {},
   "source": [
    "I also noticed that the values go up to 27 and then there's a lot of rows with the value '999' so I'm assuming that is missing data."
   ]
  },
  {
   "cell_type": "code",
   "execution_count": 32,
   "id": "f794f685",
   "metadata": {},
   "outputs": [
    {
     "data": {
      "text/plain": [
       "27.0"
      ]
     },
     "execution_count": 32,
     "metadata": {},
     "output_type": "execute_result"
    }
   ],
   "source": [
    "bank_df['pdays'].replace(999, np.nan, inplace=True)\n",
    "bank_df['pdays'].max()"
   ]
  },
  {
   "cell_type": "markdown",
   "id": "054861b3",
   "metadata": {},
   "source": [
    "The 'previous' column contains the number of contacts prior to the last campaign. Integer again."
   ]
  },
  {
   "cell_type": "code",
   "execution_count": 33,
   "id": "9f6ba79c",
   "metadata": {},
   "outputs": [],
   "source": [
    "bank_df['previous'] = bank_df['previous'].astype(int)"
   ]
  },
  {
   "cell_type": "code",
   "execution_count": 34,
   "id": "0271d490",
   "metadata": {},
   "outputs": [
    {
     "data": {
      "text/plain": [
       "previous\n",
       "0    35563\n",
       "1     4561\n",
       "2      754\n",
       "3      216\n",
       "4       70\n",
       "5       18\n",
       "6        5\n",
       "7        1\n",
       "Name: count, dtype: int64"
      ]
     },
     "execution_count": 34,
     "metadata": {},
     "output_type": "execute_result"
    }
   ],
   "source": [
    "bank_df['previous'].value_counts()"
   ]
  },
  {
   "cell_type": "markdown",
   "id": "f9ef8f07",
   "metadata": {},
   "source": [
    "Next up is 'poutcome' which is the outcome of the previous campaign."
   ]
  },
  {
   "cell_type": "code",
   "execution_count": 35,
   "id": "ed82167d",
   "metadata": {},
   "outputs": [
    {
     "data": {
      "text/plain": [
       "poutcome\n",
       "\"nonexistent\"    35563\n",
       "\"failure\"         4252\n",
       "\"success\"         1373\n",
       "Name: count, dtype: int64"
      ]
     },
     "execution_count": 35,
     "metadata": {},
     "output_type": "execute_result"
    }
   ],
   "source": [
    "bank_df['poutcome'].value_counts()"
   ]
  },
  {
   "cell_type": "markdown",
   "id": "d246034b",
   "metadata": {},
   "source": [
    "I will use a similar mapping as before."
   ]
  },
  {
   "cell_type": "code",
   "execution_count": 36,
   "id": "74804411",
   "metadata": {
    "scrolled": true
   },
   "outputs": [
    {
     "data": {
      "text/plain": [
       "poutcome\n",
       "0.0    4252\n",
       "1.0    1373\n",
       "Name: count, dtype: int64"
      ]
     },
     "execution_count": 36,
     "metadata": {},
     "output_type": "execute_result"
    }
   ],
   "source": [
    "mapping_dict2 = {\n",
    "    '\"success\"': 1,\n",
    "    '\"failure\"': 0,\n",
    "    '\"nonexistent\"': np.nan\n",
    "}\n",
    "\n",
    "bank_df['poutcome'] = bank_df['poutcome'].replace(mapping_dict2)\n",
    "bank_df['poutcome'].value_counts()"
   ]
  },
  {
   "cell_type": "markdown",
   "id": "85034b40",
   "metadata": {},
   "source": [
    "The next column 'emp.var.rate' describes quarterly employment variation rate and should be cast as a float."
   ]
  },
  {
   "cell_type": "code",
   "execution_count": 37,
   "id": "580fdb10",
   "metadata": {},
   "outputs": [],
   "source": [
    "bank_df['emp.var.rate'] = bank_df['emp.var.rate'].astype(float)"
   ]
  },
  {
   "cell_type": "markdown",
   "id": "b73e258d",
   "metadata": {},
   "source": [
    "The 'cons.price.idx' column: consumer price index - monthly indicator - float."
   ]
  },
  {
   "cell_type": "code",
   "execution_count": 38,
   "id": "856cf571",
   "metadata": {},
   "outputs": [],
   "source": [
    "bank_df['cons.price.idx'] = bank_df['cons.price.idx'].astype(float)"
   ]
  },
  {
   "cell_type": "markdown",
   "id": "d372397b",
   "metadata": {},
   "source": [
    "The 'cons.conf.idx' column: consumer confidence index - monthly indicator - float."
   ]
  },
  {
   "cell_type": "code",
   "execution_count": 39,
   "id": "b76ea4b8",
   "metadata": {},
   "outputs": [],
   "source": [
    "bank_df['cons.conf.idx'] = bank_df['cons.conf.idx'].astype(float)"
   ]
  },
  {
   "cell_type": "markdown",
   "id": "ee01dc10",
   "metadata": {},
   "source": [
    "The 'euribor3m' column: euribor 3 month rate - daily indicator - float."
   ]
  },
  {
   "cell_type": "code",
   "execution_count": 40,
   "id": "10424668",
   "metadata": {},
   "outputs": [],
   "source": [
    "bank_df['euribor3m'] = bank_df['euribor3m'].astype(float)"
   ]
  },
  {
   "cell_type": "markdown",
   "id": "7dcb3c06",
   "metadata": {},
   "source": [
    "The 'nr.employed' columns: number of employees - quarterly indicator - float.<br><br>\n",
    "I'm not sure how the number of employees can have fractions but this indicator might mean something else which is unspecified so we'll leave it as a float for now."
   ]
  },
  {
   "cell_type": "code",
   "execution_count": 41,
   "id": "fb83a68b",
   "metadata": {},
   "outputs": [],
   "source": [
    "bank_df['nr.employed'] = bank_df['nr.employed'].astype(float)"
   ]
  },
  {
   "cell_type": "markdown",
   "id": "9e136271",
   "metadata": {},
   "source": [
    "Finally, we have our target value - y. Which indicates whether or not the client subscribed a term deposit."
   ]
  },
  {
   "cell_type": "code",
   "execution_count": 42,
   "id": "99f95d71",
   "metadata": {},
   "outputs": [
    {
     "data": {
      "text/plain": [
       "y\n",
       "\"no\"     36548\n",
       "\"yes\"     4640\n",
       "Name: count, dtype: int64"
      ]
     },
     "execution_count": 42,
     "metadata": {},
     "output_type": "execute_result"
    }
   ],
   "source": [
    "bank_df['y'].value_counts()"
   ]
  },
  {
   "cell_type": "code",
   "execution_count": 43,
   "id": "7ca3266d",
   "metadata": {
    "scrolled": false
   },
   "outputs": [
    {
     "data": {
      "text/plain": [
       "y\n",
       "0    36548\n",
       "1     4640\n",
       "Name: count, dtype: int64"
      ]
     },
     "execution_count": 43,
     "metadata": {},
     "output_type": "execute_result"
    }
   ],
   "source": [
    "target_mapping = {\n",
    "    '\"no\"' : 0,\n",
    "    '\"yes\"' : 1\n",
    "}\n",
    "\n",
    "bank_df['y'] = bank_df['y'].replace(target_mapping)\n",
    "bank_df['y'].value_counts()"
   ]
  },
  {
   "cell_type": "markdown",
   "id": "d4b49241",
   "metadata": {},
   "source": [
    "Let's look at the data types again."
   ]
  },
  {
   "cell_type": "code",
   "execution_count": 44,
   "id": "d49920c1",
   "metadata": {},
   "outputs": [
    {
     "data": {
      "text/plain": [
       "age                 int32\n",
       "job                object\n",
       "marital            object\n",
       "education          object\n",
       "housing           float64\n",
       "loan              float64\n",
       "contact            object\n",
       "month              object\n",
       "day_of_week        object\n",
       "duration            int32\n",
       "campaign            int32\n",
       "pdays             float64\n",
       "previous            int32\n",
       "poutcome          float64\n",
       "emp.var.rate      float64\n",
       "cons.price.idx    float64\n",
       "cons.conf.idx     float64\n",
       "euribor3m         float64\n",
       "nr.employed       float64\n",
       "y                   int64\n",
       "dtype: object"
      ]
     },
     "execution_count": 44,
     "metadata": {},
     "output_type": "execute_result"
    }
   ],
   "source": [
    "bank_df.dtypes"
   ]
  },
  {
   "cell_type": "markdown",
   "id": "052e1baa",
   "metadata": {},
   "source": [
    "That concludes the data cleaning part."
   ]
  },
  {
   "cell_type": "markdown",
   "id": "531d8482",
   "metadata": {},
   "source": [
    "## 3. Univariate analysis\n",
    "To start I will look at the distributions and central tendencies of individual variables.<br><br>\n",
    "Going over each column again, starting with 'age'.<br>\n",
    "First let's create bins for the age groups, I will use the following categories:\n",
    "1. 20-29\n",
    "2. 30-39\n",
    "3. 40-49\n",
    "4. 50-59\n",
    "5. Over 60"
   ]
  },
  {
   "cell_type": "code",
   "execution_count": 45,
   "id": "bc20557d",
   "metadata": {
    "scrolled": true
   },
   "outputs": [
    {
     "data": {
      "text/plain": [
       "(75, 20)"
      ]
     },
     "execution_count": 45,
     "metadata": {},
     "output_type": "execute_result"
    }
   ],
   "source": [
    "bank_df[bank_df['age'] < 20].shape"
   ]
  },
  {
   "cell_type": "markdown",
   "id": "4dd71ba1",
   "metadata": {},
   "source": [
    "As you can see there's only 75 entries for people below 20 which amounts to less than 0.2% so I will not be plotting those."
   ]
  },
  {
   "cell_type": "code",
   "execution_count": 46,
   "id": "410457d0",
   "metadata": {},
   "outputs": [
    {
     "data": {
      "text/plain": [
       "age_group\n",
       "30-39      41.20\n",
       "40-49      25.60\n",
       "50-59      16.69\n",
       "20-29      13.61\n",
       "Over 60     2.90\n",
       "Name: proportion, dtype: float64"
      ]
     },
     "execution_count": 46,
     "metadata": {},
     "output_type": "execute_result"
    }
   ],
   "source": [
    "bins = [20, 30, 40, 50, 60, float('inf')]\n",
    "labels = ['20-29', '30-39', '40-49', '50-59', 'Over 60']\n",
    "\n",
    "bank_df['age_group'] = pd.cut(bank_df['age'], bins=bins, labels=labels, right=False)\n",
    "\n",
    "age_percentages = bank_df['age_group'].value_counts(normalize=True) * 100\n",
    "age_percentages.round(2)"
   ]
  },
  {
   "cell_type": "markdown",
   "id": "8f7a6679",
   "metadata": {},
   "source": [
    "People of ages 30-39 amount to 41.2% of the dataset.<br>\n",
    "People of ages 30-49 amount to 66.8% of the dataset.<br>\n",
    "The remaining is almost evenly split between people in their 20s or 50s with slightly more people in their 50s.<br>\n",
    "People over 60 amount to less than 3% of the dataset.\n"
   ]
  },
  {
   "cell_type": "code",
   "execution_count": 59,
   "id": "13f82d62",
   "metadata": {
    "scrolled": false
   },
   "outputs": [
    {
     "data": {
      "image/png": "[encoded data removed]",
      "text/plain": [
       "<Figure size 1000x600 with 1 Axes>"
      ]
     },
     "metadata": {},
     "output_type": "display_data"
    }
   ],
   "source": [
    "age_group_counts = bank_df['age_group'].value_counts().sort_index()\n",
    "\n",
    "colors = sns.color_palette(\"YlOrRd\", len(age_group_counts))[::-1]\n",
    "\n",
    "plt.figure(figsize=(10, 6))\n",
    "sns.barplot(x=age_group_counts.index, y=age_group_counts.values,\n",
    "            palette=sns.color_palette(\"coolwarm\", len(age_group_counts)))\n",
    "\n",
    "plt.title('Age Distribution by Group (Excluding < 20)', fontsize=16)\n",
    "plt.xlabel('Age Group', fontsize=14)\n",
    "plt.ylabel('Number of Individuals', fontsize=14)\n",
    "plt.xticks(rotation=0)\n",
    "plt.show()"
   ]
  },
  {
   "cell_type": "markdown",
   "id": "87fda7c3",
   "metadata": {},
   "source": [
    "Next let's do the same for the 'job' column."
   ]
  },
  {
   "cell_type": "code",
   "execution_count": 50,
   "id": "2c4fb7c3",
   "metadata": {},
   "outputs": [
    {
     "data": {
      "image/png": "[encoded data removed]",
      "text/plain": [
       "<Figure size 1000x600 with 1 Axes>"
      ]
     },
     "metadata": {},
     "output_type": "display_data"
    }
   ],
   "source": [
    "job_counts = bank_df['job'].value_counts()\n",
    "\n",
    "plt.figure(figsize=(10, 6))\n",
    "sns.barplot(x=job_counts.index, y=job_counts.values, palette=colors)\n",
    "\n",
    "plt.title('Distribution by Occupation', fontsize=16)\n",
    "plt.xlabel('Occupation', fontsize=14)\n",
    "plt.ylabel('Number of Individuals', fontsize=14)\n",
    "plt.xticks(rotation=45)\n",
    "plt.show()"
   ]
  }
 ],
 "metadata": {
  "kernelspec": {
   "display_name": "Python 3 (ipykernel)",
   "language": "python",
   "name": "python3"
  },
  "language_info": {
   "codemirror_mode": {
    "name": "ipython",
    "version": 3
   },
   "file_extension": ".py",
   "mimetype": "text/x-python",
   "name": "python",
   "nbconvert_exporter": "python",
   "pygments_lexer": "ipython3",
   "version": "3.11.5"
  }
 },
 "nbformat": 4,
 "nbformat_minor": 5
}
