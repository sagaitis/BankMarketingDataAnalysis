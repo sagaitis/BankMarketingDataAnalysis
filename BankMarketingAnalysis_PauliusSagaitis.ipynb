{
 "cells": [
  {
   "cell_type": "markdown",
   "id": "4f52b859",
   "metadata": {},
   "source": [
    "# Bank Marketing Data Analysis"
   ]
  },
  {
   "cell_type": "markdown",
   "id": "c14d4561",
   "metadata": {},
   "source": [
    "### Importing modules"
   ]
  },
  {
   "cell_type": "code",
   "execution_count": 1,
   "id": "9b89db1d",
   "metadata": {},
   "outputs": [],
   "source": [
    "import pandas as pd\n",
    "import numpy as np\n",
    "import matplotlib.pyplot as plt\n",
    "from matplotlib.colors import LinearSegmentedColormap\n",
    "import seaborn as sns\n",
    "from scipy.stats import chi2_contingency, pointbiserialr\n",
    "import statsmodels.api as sm\n"
   ]
  },
  {
   "cell_type": "markdown",
   "id": "c317704d",
   "metadata": {},
   "source": [
    "## 1. Importing the data"
   ]
  },
  {
   "cell_type": "markdown",
   "id": "11a095f5",
   "metadata": {},
   "source": [
    "<h3>Datasets:</h3>\n",
    "\n",
    "<ol>\n",
    "  <li><strong>bank-additional-full.csv</strong>: Contains all examples, ordered by date (from May 2008 to November 2010) including social and economic context attributes.</li>\n",
    "  <li><strong>bank-additional.csv</strong>: Contains 10% of the examples (4521), randomly selected from <code>bank-additional-full.csv</code>.</li>\n",
    "    <li><code>bank-full.csv</code> and <code>bank.csv</code>: Similar to the previous datasets but without the social and economic context columns.</li>\n",
    "</ol>\n",
    "\n",
    "<p> I will use <code>bank-additional-full.csv</code> for the analysis.</p>"
   ]
  },
  {
   "cell_type": "code",
   "execution_count": 2,
   "id": "5593c111",
   "metadata": {},
   "outputs": [
    {
     "data": {
      "text/html": [
       "<div>\n",
       "<style scoped>\n",
       "    .dataframe tbody tr th:only-of-type {\n",
       "        vertical-align: middle;\n",
       "    }\n",
       "\n",
       "    .dataframe tbody tr th {\n",
       "        vertical-align: top;\n",
       "    }\n",
       "\n",
       "    .dataframe thead th {\n",
       "        text-align: right;\n",
       "    }\n",
       "</style>\n",
       "<table border=\"1\" class=\"dataframe\">\n",
       "  <thead>\n",
       "    <tr style=\"text-align: right;\">\n",
       "      <th></th>\n",
       "      <th>age;\"job\";\"marital\";\"education\";\"default\";\"housing\";\"loan\";\"contact\";\"month\";\"day_of_week\";\"duration\";\"campaign\";\"pdays\";\"previous\";\"poutcome\";\"emp.var.rate\";\"cons.price.idx\";\"cons.conf.idx\";\"euribor3m\";\"nr.employed\";\"y\"</th>\n",
       "    </tr>\n",
       "  </thead>\n",
       "  <tbody>\n",
       "    <tr>\n",
       "      <th>0</th>\n",
       "      <td>56;\"housemaid\";\"married\";\"basic.4y\";\"no\";\"no\";...</td>\n",
       "    </tr>\n",
       "    <tr>\n",
       "      <th>1</th>\n",
       "      <td>57;\"services\";\"married\";\"high.school\";\"unknown...</td>\n",
       "    </tr>\n",
       "    <tr>\n",
       "      <th>2</th>\n",
       "      <td>37;\"services\";\"married\";\"high.school\";\"no\";\"ye...</td>\n",
       "    </tr>\n",
       "    <tr>\n",
       "      <th>3</th>\n",
       "      <td>40;\"admin.\";\"married\";\"basic.6y\";\"no\";\"no\";\"no...</td>\n",
       "    </tr>\n",
       "    <tr>\n",
       "      <th>4</th>\n",
       "      <td>56;\"services\";\"married\";\"high.school\";\"no\";\"no...</td>\n",
       "    </tr>\n",
       "  </tbody>\n",
       "</table>\n",
       "</div>"
      ],
      "text/plain": [
       "  age;\"job\";\"marital\";\"education\";\"default\";\"housing\";\"loan\";\"contact\";\"month\";\"day_of_week\";\"duration\";\"campaign\";\"pdays\";\"previous\";\"poutcome\";\"emp.var.rate\";\"cons.price.idx\";\"cons.conf.idx\";\"euribor3m\";\"nr.employed\";\"y\"\n",
       "0  56;\"housemaid\";\"married\";\"basic.4y\";\"no\";\"no\";...                                                                                                                                                                          \n",
       "1  57;\"services\";\"married\";\"high.school\";\"unknown...                                                                                                                                                                          \n",
       "2  37;\"services\";\"married\";\"high.school\";\"no\";\"ye...                                                                                                                                                                          \n",
       "3  40;\"admin.\";\"married\";\"basic.6y\";\"no\";\"no\";\"no...                                                                                                                                                                          \n",
       "4  56;\"services\";\"married\";\"high.school\";\"no\";\"no...                                                                                                                                                                          "
      ]
     },
     "execution_count": 2,
     "metadata": {},
     "output_type": "execute_result"
    }
   ],
   "source": [
    "bank_df = pd.read_csv('bank-additional-full.csv')\n",
    "bank_df.head(5)"
   ]
  },
  {
   "cell_type": "code",
   "execution_count": 3,
   "id": "6affebed",
   "metadata": {
    "scrolled": true
   },
   "outputs": [
    {
     "data": {
      "text/plain": [
       "<bound method DataFrame.info of       age;\"job\";\"marital\";\"education\";\"default\";\"housing\";\"loan\";\"contact\";\"month\";\"day_of_week\";\"duration\";\"campaign\";\"pdays\";\"previous\";\"poutcome\";\"emp.var.rate\";\"cons.price.idx\";\"cons.conf.idx\";\"euribor3m\";\"nr.employed\";\"y\"\n",
       "0      56;\"housemaid\";\"married\";\"basic.4y\";\"no\";\"no\";...                                                                                                                                                                          \n",
       "1      57;\"services\";\"married\";\"high.school\";\"unknown...                                                                                                                                                                          \n",
       "2      37;\"services\";\"married\";\"high.school\";\"no\";\"ye...                                                                                                                                                                          \n",
       "3      40;\"admin.\";\"married\";\"basic.6y\";\"no\";\"no\";\"no...                                                                                                                                                                          \n",
       "4      56;\"services\";\"married\";\"high.school\";\"no\";\"no...                                                                                                                                                                          \n",
       "...                                                  ...                                                                                                                                                                          \n",
       "41183  73;\"retired\";\"married\";\"professional.course\";\"...                                                                                                                                                                          \n",
       "41184  46;\"blue-collar\";\"married\";\"professional.cours...                                                                                                                                                                          \n",
       "41185  56;\"retired\";\"married\";\"university.degree\";\"no...                                                                                                                                                                          \n",
       "41186  44;\"technician\";\"married\";\"professional.course...                                                                                                                                                                          \n",
       "41187  74;\"retired\";\"married\";\"professional.course\";\"...                                                                                                                                                                          \n",
       "\n",
       "[41188 rows x 1 columns]>"
      ]
     },
     "execution_count": 3,
     "metadata": {},
     "output_type": "execute_result"
    }
   ],
   "source": [
    "bank_df.info"
   ]
  },
  {
   "cell_type": "markdown",
   "id": "4dd6a53c",
   "metadata": {},
   "source": [
    "The csv file has all values in one column so I need to split it first."
   ]
  },
  {
   "cell_type": "code",
   "execution_count": 4,
   "id": "490f6073",
   "metadata": {},
   "outputs": [
    {
     "data": {
      "text/html": [
       "<div>\n",
       "<style scoped>\n",
       "    .dataframe tbody tr th:only-of-type {\n",
       "        vertical-align: middle;\n",
       "    }\n",
       "\n",
       "    .dataframe tbody tr th {\n",
       "        vertical-align: top;\n",
       "    }\n",
       "\n",
       "    .dataframe thead th {\n",
       "        text-align: right;\n",
       "    }\n",
       "</style>\n",
       "<table border=\"1\" class=\"dataframe\">\n",
       "  <thead>\n",
       "    <tr style=\"text-align: right;\">\n",
       "      <th></th>\n",
       "      <th>age</th>\n",
       "      <th>job</th>\n",
       "      <th>marital</th>\n",
       "      <th>education</th>\n",
       "      <th>default</th>\n",
       "      <th>housing</th>\n",
       "      <th>loan</th>\n",
       "      <th>contact</th>\n",
       "      <th>month</th>\n",
       "      <th>day_of_week</th>\n",
       "      <th>...</th>\n",
       "      <th>campaign</th>\n",
       "      <th>pdays</th>\n",
       "      <th>previous</th>\n",
       "      <th>poutcome</th>\n",
       "      <th>emp.var.rate</th>\n",
       "      <th>cons.price.idx</th>\n",
       "      <th>cons.conf.idx</th>\n",
       "      <th>euribor3m</th>\n",
       "      <th>nr.employed</th>\n",
       "      <th>y</th>\n",
       "    </tr>\n",
       "  </thead>\n",
       "  <tbody>\n",
       "    <tr>\n",
       "      <th>0</th>\n",
       "      <td>56</td>\n",
       "      <td>\"housemaid\"</td>\n",
       "      <td>\"married\"</td>\n",
       "      <td>\"basic.4y\"</td>\n",
       "      <td>\"no\"</td>\n",
       "      <td>\"no\"</td>\n",
       "      <td>\"no\"</td>\n",
       "      <td>\"telephone\"</td>\n",
       "      <td>\"may\"</td>\n",
       "      <td>\"mon\"</td>\n",
       "      <td>...</td>\n",
       "      <td>1</td>\n",
       "      <td>999</td>\n",
       "      <td>0</td>\n",
       "      <td>\"nonexistent\"</td>\n",
       "      <td>1.1</td>\n",
       "      <td>93.994</td>\n",
       "      <td>-36.4</td>\n",
       "      <td>4.857</td>\n",
       "      <td>5191</td>\n",
       "      <td>\"no\"</td>\n",
       "    </tr>\n",
       "    <tr>\n",
       "      <th>1</th>\n",
       "      <td>57</td>\n",
       "      <td>\"services\"</td>\n",
       "      <td>\"married\"</td>\n",
       "      <td>\"high.school\"</td>\n",
       "      <td>\"unknown\"</td>\n",
       "      <td>\"no\"</td>\n",
       "      <td>\"no\"</td>\n",
       "      <td>\"telephone\"</td>\n",
       "      <td>\"may\"</td>\n",
       "      <td>\"mon\"</td>\n",
       "      <td>...</td>\n",
       "      <td>1</td>\n",
       "      <td>999</td>\n",
       "      <td>0</td>\n",
       "      <td>\"nonexistent\"</td>\n",
       "      <td>1.1</td>\n",
       "      <td>93.994</td>\n",
       "      <td>-36.4</td>\n",
       "      <td>4.857</td>\n",
       "      <td>5191</td>\n",
       "      <td>\"no\"</td>\n",
       "    </tr>\n",
       "    <tr>\n",
       "      <th>2</th>\n",
       "      <td>37</td>\n",
       "      <td>\"services\"</td>\n",
       "      <td>\"married\"</td>\n",
       "      <td>\"high.school\"</td>\n",
       "      <td>\"no\"</td>\n",
       "      <td>\"yes\"</td>\n",
       "      <td>\"no\"</td>\n",
       "      <td>\"telephone\"</td>\n",
       "      <td>\"may\"</td>\n",
       "      <td>\"mon\"</td>\n",
       "      <td>...</td>\n",
       "      <td>1</td>\n",
       "      <td>999</td>\n",
       "      <td>0</td>\n",
       "      <td>\"nonexistent\"</td>\n",
       "      <td>1.1</td>\n",
       "      <td>93.994</td>\n",
       "      <td>-36.4</td>\n",
       "      <td>4.857</td>\n",
       "      <td>5191</td>\n",
       "      <td>\"no\"</td>\n",
       "    </tr>\n",
       "    <tr>\n",
       "      <th>3</th>\n",
       "      <td>40</td>\n",
       "      <td>\"admin.\"</td>\n",
       "      <td>\"married\"</td>\n",
       "      <td>\"basic.6y\"</td>\n",
       "      <td>\"no\"</td>\n",
       "      <td>\"no\"</td>\n",
       "      <td>\"no\"</td>\n",
       "      <td>\"telephone\"</td>\n",
       "      <td>\"may\"</td>\n",
       "      <td>\"mon\"</td>\n",
       "      <td>...</td>\n",
       "      <td>1</td>\n",
       "      <td>999</td>\n",
       "      <td>0</td>\n",
       "      <td>\"nonexistent\"</td>\n",
       "      <td>1.1</td>\n",
       "      <td>93.994</td>\n",
       "      <td>-36.4</td>\n",
       "      <td>4.857</td>\n",
       "      <td>5191</td>\n",
       "      <td>\"no\"</td>\n",
       "    </tr>\n",
       "    <tr>\n",
       "      <th>4</th>\n",
       "      <td>56</td>\n",
       "      <td>\"services\"</td>\n",
       "      <td>\"married\"</td>\n",
       "      <td>\"high.school\"</td>\n",
       "      <td>\"no\"</td>\n",
       "      <td>\"no\"</td>\n",
       "      <td>\"yes\"</td>\n",
       "      <td>\"telephone\"</td>\n",
       "      <td>\"may\"</td>\n",
       "      <td>\"mon\"</td>\n",
       "      <td>...</td>\n",
       "      <td>1</td>\n",
       "      <td>999</td>\n",
       "      <td>0</td>\n",
       "      <td>\"nonexistent\"</td>\n",
       "      <td>1.1</td>\n",
       "      <td>93.994</td>\n",
       "      <td>-36.4</td>\n",
       "      <td>4.857</td>\n",
       "      <td>5191</td>\n",
       "      <td>\"no\"</td>\n",
       "    </tr>\n",
       "    <tr>\n",
       "      <th>...</th>\n",
       "      <td>...</td>\n",
       "      <td>...</td>\n",
       "      <td>...</td>\n",
       "      <td>...</td>\n",
       "      <td>...</td>\n",
       "      <td>...</td>\n",
       "      <td>...</td>\n",
       "      <td>...</td>\n",
       "      <td>...</td>\n",
       "      <td>...</td>\n",
       "      <td>...</td>\n",
       "      <td>...</td>\n",
       "      <td>...</td>\n",
       "      <td>...</td>\n",
       "      <td>...</td>\n",
       "      <td>...</td>\n",
       "      <td>...</td>\n",
       "      <td>...</td>\n",
       "      <td>...</td>\n",
       "      <td>...</td>\n",
       "      <td>...</td>\n",
       "    </tr>\n",
       "    <tr>\n",
       "      <th>41183</th>\n",
       "      <td>73</td>\n",
       "      <td>\"retired\"</td>\n",
       "      <td>\"married\"</td>\n",
       "      <td>\"professional.course\"</td>\n",
       "      <td>\"no\"</td>\n",
       "      <td>\"yes\"</td>\n",
       "      <td>\"no\"</td>\n",
       "      <td>\"cellular\"</td>\n",
       "      <td>\"nov\"</td>\n",
       "      <td>\"fri\"</td>\n",
       "      <td>...</td>\n",
       "      <td>1</td>\n",
       "      <td>999</td>\n",
       "      <td>0</td>\n",
       "      <td>\"nonexistent\"</td>\n",
       "      <td>-1.1</td>\n",
       "      <td>94.767</td>\n",
       "      <td>-50.8</td>\n",
       "      <td>1.028</td>\n",
       "      <td>4963.6</td>\n",
       "      <td>\"yes\"</td>\n",
       "    </tr>\n",
       "    <tr>\n",
       "      <th>41184</th>\n",
       "      <td>46</td>\n",
       "      <td>\"blue-collar\"</td>\n",
       "      <td>\"married\"</td>\n",
       "      <td>\"professional.course\"</td>\n",
       "      <td>\"no\"</td>\n",
       "      <td>\"no\"</td>\n",
       "      <td>\"no\"</td>\n",
       "      <td>\"cellular\"</td>\n",
       "      <td>\"nov\"</td>\n",
       "      <td>\"fri\"</td>\n",
       "      <td>...</td>\n",
       "      <td>1</td>\n",
       "      <td>999</td>\n",
       "      <td>0</td>\n",
       "      <td>\"nonexistent\"</td>\n",
       "      <td>-1.1</td>\n",
       "      <td>94.767</td>\n",
       "      <td>-50.8</td>\n",
       "      <td>1.028</td>\n",
       "      <td>4963.6</td>\n",
       "      <td>\"no\"</td>\n",
       "    </tr>\n",
       "    <tr>\n",
       "      <th>41185</th>\n",
       "      <td>56</td>\n",
       "      <td>\"retired\"</td>\n",
       "      <td>\"married\"</td>\n",
       "      <td>\"university.degree\"</td>\n",
       "      <td>\"no\"</td>\n",
       "      <td>\"yes\"</td>\n",
       "      <td>\"no\"</td>\n",
       "      <td>\"cellular\"</td>\n",
       "      <td>\"nov\"</td>\n",
       "      <td>\"fri\"</td>\n",
       "      <td>...</td>\n",
       "      <td>2</td>\n",
       "      <td>999</td>\n",
       "      <td>0</td>\n",
       "      <td>\"nonexistent\"</td>\n",
       "      <td>-1.1</td>\n",
       "      <td>94.767</td>\n",
       "      <td>-50.8</td>\n",
       "      <td>1.028</td>\n",
       "      <td>4963.6</td>\n",
       "      <td>\"no\"</td>\n",
       "    </tr>\n",
       "    <tr>\n",
       "      <th>41186</th>\n",
       "      <td>44</td>\n",
       "      <td>\"technician\"</td>\n",
       "      <td>\"married\"</td>\n",
       "      <td>\"professional.course\"</td>\n",
       "      <td>\"no\"</td>\n",
       "      <td>\"no\"</td>\n",
       "      <td>\"no\"</td>\n",
       "      <td>\"cellular\"</td>\n",
       "      <td>\"nov\"</td>\n",
       "      <td>\"fri\"</td>\n",
       "      <td>...</td>\n",
       "      <td>1</td>\n",
       "      <td>999</td>\n",
       "      <td>0</td>\n",
       "      <td>\"nonexistent\"</td>\n",
       "      <td>-1.1</td>\n",
       "      <td>94.767</td>\n",
       "      <td>-50.8</td>\n",
       "      <td>1.028</td>\n",
       "      <td>4963.6</td>\n",
       "      <td>\"yes\"</td>\n",
       "    </tr>\n",
       "    <tr>\n",
       "      <th>41187</th>\n",
       "      <td>74</td>\n",
       "      <td>\"retired\"</td>\n",
       "      <td>\"married\"</td>\n",
       "      <td>\"professional.course\"</td>\n",
       "      <td>\"no\"</td>\n",
       "      <td>\"yes\"</td>\n",
       "      <td>\"no\"</td>\n",
       "      <td>\"cellular\"</td>\n",
       "      <td>\"nov\"</td>\n",
       "      <td>\"fri\"</td>\n",
       "      <td>...</td>\n",
       "      <td>3</td>\n",
       "      <td>999</td>\n",
       "      <td>1</td>\n",
       "      <td>\"failure\"</td>\n",
       "      <td>-1.1</td>\n",
       "      <td>94.767</td>\n",
       "      <td>-50.8</td>\n",
       "      <td>1.028</td>\n",
       "      <td>4963.6</td>\n",
       "      <td>\"no\"</td>\n",
       "    </tr>\n",
       "  </tbody>\n",
       "</table>\n",
       "<p>41188 rows × 21 columns</p>\n",
       "</div>"
      ],
      "text/plain": [
       "      age            job    marital              education    default housing  \\\n",
       "0      56    \"housemaid\"  \"married\"             \"basic.4y\"       \"no\"    \"no\"   \n",
       "1      57     \"services\"  \"married\"          \"high.school\"  \"unknown\"    \"no\"   \n",
       "2      37     \"services\"  \"married\"          \"high.school\"       \"no\"   \"yes\"   \n",
       "3      40       \"admin.\"  \"married\"             \"basic.6y\"       \"no\"    \"no\"   \n",
       "4      56     \"services\"  \"married\"          \"high.school\"       \"no\"    \"no\"   \n",
       "...    ..            ...        ...                    ...        ...     ...   \n",
       "41183  73      \"retired\"  \"married\"  \"professional.course\"       \"no\"   \"yes\"   \n",
       "41184  46  \"blue-collar\"  \"married\"  \"professional.course\"       \"no\"    \"no\"   \n",
       "41185  56      \"retired\"  \"married\"    \"university.degree\"       \"no\"   \"yes\"   \n",
       "41186  44   \"technician\"  \"married\"  \"professional.course\"       \"no\"    \"no\"   \n",
       "41187  74      \"retired\"  \"married\"  \"professional.course\"       \"no\"   \"yes\"   \n",
       "\n",
       "        loan      contact  month day_of_week  ... campaign pdays previous  \\\n",
       "0       \"no\"  \"telephone\"  \"may\"       \"mon\"  ...        1   999        0   \n",
       "1       \"no\"  \"telephone\"  \"may\"       \"mon\"  ...        1   999        0   \n",
       "2       \"no\"  \"telephone\"  \"may\"       \"mon\"  ...        1   999        0   \n",
       "3       \"no\"  \"telephone\"  \"may\"       \"mon\"  ...        1   999        0   \n",
       "4      \"yes\"  \"telephone\"  \"may\"       \"mon\"  ...        1   999        0   \n",
       "...      ...          ...    ...         ...  ...      ...   ...      ...   \n",
       "41183   \"no\"   \"cellular\"  \"nov\"       \"fri\"  ...        1   999        0   \n",
       "41184   \"no\"   \"cellular\"  \"nov\"       \"fri\"  ...        1   999        0   \n",
       "41185   \"no\"   \"cellular\"  \"nov\"       \"fri\"  ...        2   999        0   \n",
       "41186   \"no\"   \"cellular\"  \"nov\"       \"fri\"  ...        1   999        0   \n",
       "41187   \"no\"   \"cellular\"  \"nov\"       \"fri\"  ...        3   999        1   \n",
       "\n",
       "            poutcome emp.var.rate cons.price.idx cons.conf.idx euribor3m  \\\n",
       "0      \"nonexistent\"          1.1         93.994         -36.4     4.857   \n",
       "1      \"nonexistent\"          1.1         93.994         -36.4     4.857   \n",
       "2      \"nonexistent\"          1.1         93.994         -36.4     4.857   \n",
       "3      \"nonexistent\"          1.1         93.994         -36.4     4.857   \n",
       "4      \"nonexistent\"          1.1         93.994         -36.4     4.857   \n",
       "...              ...          ...            ...           ...       ...   \n",
       "41183  \"nonexistent\"         -1.1         94.767         -50.8     1.028   \n",
       "41184  \"nonexistent\"         -1.1         94.767         -50.8     1.028   \n",
       "41185  \"nonexistent\"         -1.1         94.767         -50.8     1.028   \n",
       "41186  \"nonexistent\"         -1.1         94.767         -50.8     1.028   \n",
       "41187      \"failure\"         -1.1         94.767         -50.8     1.028   \n",
       "\n",
       "      nr.employed      y  \n",
       "0            5191   \"no\"  \n",
       "1            5191   \"no\"  \n",
       "2            5191   \"no\"  \n",
       "3            5191   \"no\"  \n",
       "4            5191   \"no\"  \n",
       "...           ...    ...  \n",
       "41183      4963.6  \"yes\"  \n",
       "41184      4963.6   \"no\"  \n",
       "41185      4963.6   \"no\"  \n",
       "41186      4963.6  \"yes\"  \n",
       "41187      4963.6   \"no\"  \n",
       "\n",
       "[41188 rows x 21 columns]"
      ]
     },
     "execution_count": 4,
     "metadata": {},
     "output_type": "execute_result"
    }
   ],
   "source": [
    "bank_df = bank_df.iloc[:, 0].str.split(';', expand=True)\n",
    "bank_df.columns = [\n",
    "    \"age\", \"job\", \"marital\", \"education\", \"default\", \"housing\", \"loan\", \n",
    "    \"contact\", \"month\", \"day_of_week\", \"duration\", \"campaign\", \"pdays\", \"previous\", \"poutcome\",\n",
    "    \"emp.var.rate\", \"cons.price.idx\", \"cons.conf.idx\", \"euribor3m\", \"nr.employed\", \"y\"\n",
    "]\n",
    "bank_df"
   ]
  },
  {
   "cell_type": "markdown",
   "id": "fb521abc",
   "metadata": {},
   "source": [
    "The dataset contains the correct amount of 21 columns and around 41k rows.<br><br>\n",
    "Now I can move on to data preparation."
   ]
  },
  {
   "cell_type": "markdown",
   "id": "7ff97f06",
   "metadata": {},
   "source": [
    "## 2. Data Preparation and Cleaning"
   ]
  },
  {
   "cell_type": "markdown",
   "id": "f5f85e5f",
   "metadata": {},
   "source": [
    "First I'll look at the data types and value counts of each column to determine which columns need to be converted."
   ]
  },
  {
   "cell_type": "code",
   "execution_count": 5,
   "id": "ae5842ed",
   "metadata": {
    "scrolled": false
   },
   "outputs": [
    {
     "data": {
      "text/plain": [
       "age               object\n",
       "job               object\n",
       "marital           object\n",
       "education         object\n",
       "default           object\n",
       "housing           object\n",
       "loan              object\n",
       "contact           object\n",
       "month             object\n",
       "day_of_week       object\n",
       "duration          object\n",
       "campaign          object\n",
       "pdays             object\n",
       "previous          object\n",
       "poutcome          object\n",
       "emp.var.rate      object\n",
       "cons.price.idx    object\n",
       "cons.conf.idx     object\n",
       "euribor3m         object\n",
       "nr.employed       object\n",
       "y                 object\n",
       "dtype: object"
      ]
     },
     "execution_count": 5,
     "metadata": {},
     "output_type": "execute_result"
    }
   ],
   "source": [
    "bank_df.dtypes"
   ]
  },
  {
   "cell_type": "markdown",
   "id": "87b90c47",
   "metadata": {},
   "source": [
    "All of the columns are objects, some columns need conversion. <br>\n",
    "Let's check for nulls."
   ]
  },
  {
   "cell_type": "code",
   "execution_count": 6,
   "id": "827c9e6f",
   "metadata": {},
   "outputs": [
    {
     "data": {
      "text/plain": [
       "age               0\n",
       "job               0\n",
       "marital           0\n",
       "education         0\n",
       "default           0\n",
       "housing           0\n",
       "loan              0\n",
       "contact           0\n",
       "month             0\n",
       "day_of_week       0\n",
       "duration          0\n",
       "campaign          0\n",
       "pdays             0\n",
       "previous          0\n",
       "poutcome          0\n",
       "emp.var.rate      0\n",
       "cons.price.idx    0\n",
       "cons.conf.idx     0\n",
       "euribor3m         0\n",
       "nr.employed       0\n",
       "y                 0\n",
       "dtype: int64"
      ]
     },
     "execution_count": 6,
     "metadata": {},
     "output_type": "execute_result"
    }
   ],
   "source": [
    "bank_df.isna().sum()"
   ]
  },
  {
   "cell_type": "markdown",
   "id": "4a66f6af",
   "metadata": {},
   "source": [
    "No nulls so let's go over the columns one by one starting with 'age'."
   ]
  },
  {
   "cell_type": "code",
   "execution_count": 7,
   "id": "95431d7d",
   "metadata": {},
   "outputs": [
    {
     "data": {
      "text/plain": [
       "17"
      ]
     },
     "execution_count": 7,
     "metadata": {},
     "output_type": "execute_result"
    }
   ],
   "source": [
    "bank_df['age'] = bank_df['age'].astype(int)\n",
    "\n",
    "bank_df['age'].min()"
   ]
  },
  {
   "cell_type": "code",
   "execution_count": 8,
   "id": "a64f162d",
   "metadata": {},
   "outputs": [
    {
     "data": {
      "text/plain": [
       "98"
      ]
     },
     "execution_count": 8,
     "metadata": {},
     "output_type": "execute_result"
    }
   ],
   "source": [
    "bank_df['age'].max()"
   ]
  },
  {
   "cell_type": "markdown",
   "id": "df54b003",
   "metadata": {},
   "source": [
    "The 'age' column is converted successfully.<br>\n",
    "The 'job' column is next."
   ]
  },
  {
   "cell_type": "code",
   "execution_count": 9,
   "id": "cef41d28",
   "metadata": {
    "scrolled": true
   },
   "outputs": [
    {
     "data": {
      "text/plain": [
       "job\n",
       "\"admin.\"           10422\n",
       "\"blue-collar\"       9254\n",
       "\"technician\"        6743\n",
       "\"services\"          3969\n",
       "\"management\"        2924\n",
       "\"retired\"           1720\n",
       "\"entrepreneur\"      1456\n",
       "\"self-employed\"     1421\n",
       "\"housemaid\"         1060\n",
       "\"unemployed\"        1014\n",
       "\"student\"            875\n",
       "\"unknown\"            330\n",
       "Name: count, dtype: int64"
      ]
     },
     "execution_count": 9,
     "metadata": {},
     "output_type": "execute_result"
    }
   ],
   "source": [
    "bank_df['job'].value_counts()"
   ]
  },
  {
   "cell_type": "markdown",
   "id": "c5321e11",
   "metadata": {},
   "source": [
    "Let's drop the quotes, capitalize and change \"unknown\" to <strong> NaN </strong>, also remove the dot from 'Admin'."
   ]
  },
  {
   "cell_type": "code",
   "execution_count": 10,
   "id": "15d32b61",
   "metadata": {},
   "outputs": [
    {
     "data": {
      "text/plain": [
       "job\n",
       "Admin            10422\n",
       "Blue-collar       9254\n",
       "Technician        6743\n",
       "Services          3969\n",
       "Management        2924\n",
       "Retired           1720\n",
       "Entrepreneur      1456\n",
       "Self-employed     1421\n",
       "Housemaid         1060\n",
       "Unemployed        1014\n",
       "Student            875\n",
       "Name: count, dtype: int64"
      ]
     },
     "execution_count": 10,
     "metadata": {},
     "output_type": "execute_result"
    }
   ],
   "source": [
    "bank_df['job'] = bank_df['job'].str.replace('\"', '').str.capitalize()\n",
    "bank_df['job'] = bank_df['job'].str.replace('.', '')\n",
    "\n",
    "bank_df['job'].replace('Unknown', np.nan, inplace=True)\n",
    "\n",
    "bank_df['job'].value_counts()"
   ]
  },
  {
   "cell_type": "code",
   "execution_count": 11,
   "id": "019abf35",
   "metadata": {},
   "outputs": [
    {
     "data": {
      "text/plain": [
       "330"
      ]
     },
     "execution_count": 11,
     "metadata": {},
     "output_type": "execute_result"
    }
   ],
   "source": [
    "bank_df['job'].isna().sum()"
   ]
  },
  {
   "cell_type": "markdown",
   "id": "6d66ab49",
   "metadata": {},
   "source": [
    "Good, this will provide consistency and simplified data handling.<br>\n",
    "Next is 'marital'."
   ]
  },
  {
   "cell_type": "code",
   "execution_count": 12,
   "id": "9b9d425a",
   "metadata": {},
   "outputs": [
    {
     "data": {
      "text/plain": [
       "marital\n",
       "\"married\"     24928\n",
       "\"single\"      11568\n",
       "\"divorced\"     4612\n",
       "\"unknown\"        80\n",
       "Name: count, dtype: int64"
      ]
     },
     "execution_count": 12,
     "metadata": {},
     "output_type": "execute_result"
    }
   ],
   "source": [
    "bank_df['marital'].value_counts()"
   ]
  },
  {
   "cell_type": "code",
   "execution_count": 13,
   "id": "e6c9076a",
   "metadata": {},
   "outputs": [
    {
     "data": {
      "text/plain": [
       "marital\n",
       "Married     24928\n",
       "Single      11568\n",
       "Divorced     4612\n",
       "Name: count, dtype: int64"
      ]
     },
     "execution_count": 13,
     "metadata": {},
     "output_type": "execute_result"
    }
   ],
   "source": [
    "bank_df['marital'] = bank_df['marital'].str.replace('\"', '').str.capitalize()\n",
    "\n",
    "bank_df['marital'].replace('Unknown', np.nan, inplace=True)\n",
    "\n",
    "bank_df['marital'].value_counts()"
   ]
  },
  {
   "cell_type": "markdown",
   "id": "7d3de083",
   "metadata": {},
   "source": [
    "Next is 'education'."
   ]
  },
  {
   "cell_type": "code",
   "execution_count": 14,
   "id": "0c2356dc",
   "metadata": {},
   "outputs": [
    {
     "data": {
      "text/plain": [
       "education\n",
       "\"university.degree\"      12168\n",
       "\"high.school\"             9515\n",
       "\"basic.9y\"                6045\n",
       "\"professional.course\"     5243\n",
       "\"basic.4y\"                4176\n",
       "\"basic.6y\"                2292\n",
       "\"unknown\"                 1731\n",
       "\"illiterate\"                18\n",
       "Name: count, dtype: int64"
      ]
     },
     "execution_count": 14,
     "metadata": {},
     "output_type": "execute_result"
    }
   ],
   "source": [
    "bank_df['education'].value_counts()"
   ]
  },
  {
   "cell_type": "code",
   "execution_count": 15,
   "id": "964ee5f1",
   "metadata": {
    "scrolled": true
   },
   "outputs": [
    {
     "data": {
      "text/plain": [
       "education\n",
       "University degree      12168\n",
       "High school             9515\n",
       "Basic 9y                6045\n",
       "Professional course     5243\n",
       "Basic 4y                4176\n",
       "Basic 6y                2292\n",
       "Illiterate                18\n",
       "Name: count, dtype: int64"
      ]
     },
     "execution_count": 15,
     "metadata": {},
     "output_type": "execute_result"
    }
   ],
   "source": [
    "bank_df['education'] = bank_df['education'].str.replace('.', ' ')\n",
    "bank_df['education'] = bank_df['education'].str.replace('\"', '').str.capitalize()\n",
    "\n",
    "bank_df['education'].replace('Unknown', np.nan, inplace=True)\n",
    "\n",
    "bank_df['education'].value_counts()"
   ]
  },
  {
   "cell_type": "markdown",
   "id": "e2545ba9",
   "metadata": {},
   "source": [
    "Next we have 'default'."
   ]
  },
  {
   "cell_type": "code",
   "execution_count": 16,
   "id": "7023880c",
   "metadata": {},
   "outputs": [
    {
     "data": {
      "text/plain": [
       "default\n",
       "\"no\"         32588\n",
       "\"unknown\"     8597\n",
       "\"yes\"            3\n",
       "Name: count, dtype: int64"
      ]
     },
     "execution_count": 16,
     "metadata": {},
     "output_type": "execute_result"
    }
   ],
   "source": [
    "bank_df['default'].value_counts()"
   ]
  },
  {
   "cell_type": "markdown",
   "id": "6c587ef9",
   "metadata": {},
   "source": [
    "Only three values of \"yes\" so unfortunately this column is essentially useless and can be dropped."
   ]
  },
  {
   "cell_type": "code",
   "execution_count": 17,
   "id": "d7f31114",
   "metadata": {},
   "outputs": [],
   "source": [
    "bank_df = bank_df.drop('default', axis = 1)"
   ]
  },
  {
   "cell_type": "markdown",
   "id": "c797070c",
   "metadata": {},
   "source": [
    "Next is 'housing'."
   ]
  },
  {
   "cell_type": "code",
   "execution_count": 18,
   "id": "e978c408",
   "metadata": {
    "scrolled": true
   },
   "outputs": [
    {
     "data": {
      "text/plain": [
       "housing\n",
       "\"yes\"        21576\n",
       "\"no\"         18622\n",
       "\"unknown\"      990\n",
       "Name: count, dtype: int64"
      ]
     },
     "execution_count": 18,
     "metadata": {},
     "output_type": "execute_result"
    }
   ],
   "source": [
    "bank_df['housing'].value_counts()"
   ]
  },
  {
   "cell_type": "markdown",
   "id": "626f04cc",
   "metadata": {},
   "source": [
    "I will encode 'no' as 0, 'yes' as 1 and again replace 'unknown' with <strong> NaN </strong>."
   ]
  },
  {
   "cell_type": "code",
   "execution_count": 19,
   "id": "7b05118b",
   "metadata": {
    "scrolled": true
   },
   "outputs": [
    {
     "data": {
      "text/plain": [
       "housing\n",
       "1.0    21576\n",
       "0.0    18622\n",
       "Name: count, dtype: int64"
      ]
     },
     "execution_count": 19,
     "metadata": {},
     "output_type": "execute_result"
    }
   ],
   "source": [
    "mapping_dict = {\n",
    "    '\"yes\"': 1,\n",
    "    '\"no\"': 0,\n",
    "    '\"unknown\"': np.nan\n",
    "}\n",
    "\n",
    "bank_df['housing'] = bank_df['housing'].replace(mapping_dict)\n",
    "\n",
    "bank_df['housing'].value_counts()"
   ]
  },
  {
   "cell_type": "markdown",
   "id": "4742b741",
   "metadata": {},
   "source": [
    "Next is 'loan'."
   ]
  },
  {
   "cell_type": "code",
   "execution_count": 20,
   "id": "8a4e5762",
   "metadata": {
    "scrolled": false
   },
   "outputs": [
    {
     "data": {
      "text/plain": [
       "loan\n",
       "\"no\"         33950\n",
       "\"yes\"         6248\n",
       "\"unknown\"      990\n",
       "Name: count, dtype: int64"
      ]
     },
     "execution_count": 20,
     "metadata": {},
     "output_type": "execute_result"
    }
   ],
   "source": [
    "bank_df['loan'].value_counts()"
   ]
  },
  {
   "cell_type": "markdown",
   "id": "ad66bede",
   "metadata": {},
   "source": [
    "Using the same mapping as before."
   ]
  },
  {
   "cell_type": "code",
   "execution_count": 21,
   "id": "62c19f03",
   "metadata": {},
   "outputs": [
    {
     "data": {
      "text/plain": [
       "loan\n",
       "0.0    33950\n",
       "1.0     6248\n",
       "Name: count, dtype: int64"
      ]
     },
     "execution_count": 21,
     "metadata": {},
     "output_type": "execute_result"
    }
   ],
   "source": [
    "bank_df['loan'] = bank_df['loan'].replace(mapping_dict)\n",
    "\n",
    "bank_df['loan'].value_counts()"
   ]
  },
  {
   "cell_type": "markdown",
   "id": "4caa3aee",
   "metadata": {},
   "source": [
    "Next is 'contact'."
   ]
  },
  {
   "cell_type": "code",
   "execution_count": 22,
   "id": "5bd1a09a",
   "metadata": {},
   "outputs": [
    {
     "data": {
      "text/plain": [
       "contact\n",
       "\"cellular\"     26144\n",
       "\"telephone\"    15044\n",
       "Name: count, dtype: int64"
      ]
     },
     "execution_count": 22,
     "metadata": {},
     "output_type": "execute_result"
    }
   ],
   "source": [
    "bank_df['contact'].value_counts()"
   ]
  },
  {
   "cell_type": "code",
   "execution_count": 23,
   "id": "cb4b439e",
   "metadata": {},
   "outputs": [
    {
     "data": {
      "text/plain": [
       "contact\n",
       "Cellular     26144\n",
       "Telephone    15044\n",
       "Name: count, dtype: int64"
      ]
     },
     "execution_count": 23,
     "metadata": {},
     "output_type": "execute_result"
    }
   ],
   "source": [
    "bank_df['contact'] = bank_df['contact'].str.replace('\"', '').str.capitalize()\n",
    "\n",
    "bank_df['contact'].value_counts()"
   ]
  },
  {
   "cell_type": "markdown",
   "id": "a108da6f",
   "metadata": {},
   "source": [
    "Next is 'month'."
   ]
  },
  {
   "cell_type": "code",
   "execution_count": 24,
   "id": "ad5c30ea",
   "metadata": {},
   "outputs": [
    {
     "data": {
      "text/plain": [
       "month\n",
       "\"may\"    13769\n",
       "\"jul\"     7174\n",
       "\"aug\"     6178\n",
       "\"jun\"     5318\n",
       "\"nov\"     4101\n",
       "\"apr\"     2632\n",
       "\"oct\"      718\n",
       "\"sep\"      570\n",
       "\"mar\"      546\n",
       "\"dec\"      182\n",
       "Name: count, dtype: int64"
      ]
     },
     "execution_count": 24,
     "metadata": {},
     "output_type": "execute_result"
    }
   ],
   "source": [
    "bank_df['month'].value_counts()"
   ]
  },
  {
   "cell_type": "code",
   "execution_count": 25,
   "id": "fcb4d039",
   "metadata": {
    "scrolled": true
   },
   "outputs": [
    {
     "data": {
      "text/plain": [
       "month\n",
       "May    13769\n",
       "Jul     7174\n",
       "Aug     6178\n",
       "Jun     5318\n",
       "Nov     4101\n",
       "Apr     2632\n",
       "Oct      718\n",
       "Sep      570\n",
       "Mar      546\n",
       "Dec      182\n",
       "Name: count, dtype: int64"
      ]
     },
     "execution_count": 25,
     "metadata": {},
     "output_type": "execute_result"
    }
   ],
   "source": [
    "bank_df['month'] = bank_df['month'].str.replace('\"', '').str.capitalize()\n",
    "bank_df['month'].value_counts()"
   ]
  },
  {
   "cell_type": "markdown",
   "id": "5649f55f",
   "metadata": {},
   "source": [
    "It's strange that this dataset was said to contain data for May 2008 to November 2010 and yet does not have values for January and February, however there is nothing we can do about that and will continue with 'day_of_week' next."
   ]
  },
  {
   "cell_type": "code",
   "execution_count": 26,
   "id": "fda849a7",
   "metadata": {},
   "outputs": [
    {
     "data": {
      "text/plain": [
       "day_of_week\n",
       "\"thu\"    8623\n",
       "\"mon\"    8514\n",
       "\"wed\"    8134\n",
       "\"tue\"    8090\n",
       "\"fri\"    7827\n",
       "Name: count, dtype: int64"
      ]
     },
     "execution_count": 26,
     "metadata": {},
     "output_type": "execute_result"
    }
   ],
   "source": [
    "bank_df['day_of_week'].value_counts()"
   ]
  },
  {
   "cell_type": "code",
   "execution_count": 27,
   "id": "1670a458",
   "metadata": {},
   "outputs": [
    {
     "data": {
      "text/plain": [
       "day_of_week\n",
       "Thu    8623\n",
       "Mon    8514\n",
       "Wed    8134\n",
       "Tue    8090\n",
       "Fri    7827\n",
       "Name: count, dtype: int64"
      ]
     },
     "execution_count": 27,
     "metadata": {},
     "output_type": "execute_result"
    }
   ],
   "source": [
    "bank_df['day_of_week'] = bank_df['day_of_week'].str.replace('\"', '').str.capitalize()\n",
    "bank_df['day_of_week'].value_counts()"
   ]
  },
  {
   "cell_type": "markdown",
   "id": "9491a1f2",
   "metadata": {},
   "source": [
    "Next we have 'duration'."
   ]
  },
  {
   "cell_type": "code",
   "execution_count": 28,
   "id": "c86f785b",
   "metadata": {},
   "outputs": [
    {
     "data": {
      "text/plain": [
       "True"
      ]
     },
     "execution_count": 28,
     "metadata": {},
     "output_type": "execute_result"
    }
   ],
   "source": [
    "bank_df['duration'] = bank_df['duration'].astype(float)\n",
    "\n",
    "all_integers = bank_df['duration'].apply(lambda x: x.is_integer()).all()\n",
    "all_integers"
   ]
  },
  {
   "cell_type": "code",
   "execution_count": 29,
   "id": "b61ec98e",
   "metadata": {},
   "outputs": [
    {
     "data": {
      "text/plain": [
       "4918"
      ]
     },
     "execution_count": 29,
     "metadata": {},
     "output_type": "execute_result"
    }
   ],
   "source": [
    "bank_df['duration'] = bank_df['duration'].astype(int)\n",
    "bank_df['duration'].max()"
   ]
  },
  {
   "cell_type": "markdown",
   "id": "160bcc23",
   "metadata": {},
   "source": [
    "The 'campaign' column contains the number of contacts performed with this client and needs to be cast as an integer."
   ]
  },
  {
   "cell_type": "code",
   "execution_count": 30,
   "id": "a16bdec5",
   "metadata": {},
   "outputs": [],
   "source": [
    "bank_df['campaign'] = bank_df['campaign'].astype(int)"
   ]
  },
  {
   "cell_type": "markdown",
   "id": "82c9856a",
   "metadata": {},
   "source": [
    "Next is 'pdays'. It's the number of days since previous campaign and also needs to be cast as an integer."
   ]
  },
  {
   "cell_type": "code",
   "execution_count": 31,
   "id": "4ce6540b",
   "metadata": {},
   "outputs": [
    {
     "data": {
      "text/plain": [
       "pdays\n",
       "999    39673\n",
       "22         3\n",
       "21         2\n",
       "25         1\n",
       "26         1\n",
       "Name: count, dtype: int64"
      ]
     },
     "execution_count": 31,
     "metadata": {},
     "output_type": "execute_result"
    }
   ],
   "source": [
    "bank_df['pdays'] = bank_df['pdays'].astype(int)\n",
    "top_pday = bank_df['pdays'][bank_df['pdays'] > 20]\n",
    "top_pday.value_counts().head(5)"
   ]
  },
  {
   "cell_type": "markdown",
   "id": "e94ccb0e",
   "metadata": {},
   "source": [
    "I also noticed that the values go up to 27 and then there's a lot of rows with the value '999' so I'm assuming that is missing data."
   ]
  },
  {
   "cell_type": "code",
   "execution_count": 32,
   "id": "f794f685",
   "metadata": {},
   "outputs": [
    {
     "data": {
      "text/plain": [
       "27.0"
      ]
     },
     "execution_count": 32,
     "metadata": {},
     "output_type": "execute_result"
    }
   ],
   "source": [
    "bank_df['pdays'].replace(999, np.nan, inplace=True)\n",
    "bank_df['pdays'].max()"
   ]
  },
  {
   "cell_type": "markdown",
   "id": "054861b3",
   "metadata": {},
   "source": [
    "The 'previous' column contains the number of contacts prior to the last campaign. Integer again."
   ]
  },
  {
   "cell_type": "code",
   "execution_count": 33,
   "id": "9f6ba79c",
   "metadata": {},
   "outputs": [],
   "source": [
    "bank_df['previous'] = bank_df['previous'].astype(int)"
   ]
  },
  {
   "cell_type": "code",
   "execution_count": 34,
   "id": "0271d490",
   "metadata": {},
   "outputs": [
    {
     "data": {
      "text/plain": [
       "previous\n",
       "0    35563\n",
       "1     4561\n",
       "2      754\n",
       "3      216\n",
       "4       70\n",
       "5       18\n",
       "6        5\n",
       "7        1\n",
       "Name: count, dtype: int64"
      ]
     },
     "execution_count": 34,
     "metadata": {},
     "output_type": "execute_result"
    }
   ],
   "source": [
    "bank_df['previous'].value_counts()"
   ]
  },
  {
   "cell_type": "markdown",
   "id": "f9ef8f07",
   "metadata": {},
   "source": [
    "Next up is 'poutcome' which is the outcome of the previous campaign."
   ]
  },
  {
   "cell_type": "code",
   "execution_count": 35,
   "id": "ed82167d",
   "metadata": {},
   "outputs": [
    {
     "data": {
      "text/plain": [
       "poutcome\n",
       "\"nonexistent\"    35563\n",
       "\"failure\"         4252\n",
       "\"success\"         1373\n",
       "Name: count, dtype: int64"
      ]
     },
     "execution_count": 35,
     "metadata": {},
     "output_type": "execute_result"
    }
   ],
   "source": [
    "bank_df['poutcome'].value_counts()"
   ]
  },
  {
   "cell_type": "markdown",
   "id": "d246034b",
   "metadata": {},
   "source": [
    "I will use a similar mapping as before."
   ]
  },
  {
   "cell_type": "code",
   "execution_count": 36,
   "id": "74804411",
   "metadata": {
    "scrolled": true
   },
   "outputs": [
    {
     "data": {
      "text/plain": [
       "poutcome\n",
       "0.0    4252\n",
       "1.0    1373\n",
       "Name: count, dtype: int64"
      ]
     },
     "execution_count": 36,
     "metadata": {},
     "output_type": "execute_result"
    }
   ],
   "source": [
    "mapping_dict2 = {\n",
    "    '\"success\"': 1,\n",
    "    '\"failure\"': 0,\n",
    "    '\"nonexistent\"': np.nan\n",
    "}\n",
    "\n",
    "bank_df['poutcome'] = bank_df['poutcome'].replace(mapping_dict2)\n",
    "bank_df['poutcome'].value_counts()"
   ]
  },
  {
   "cell_type": "markdown",
   "id": "85034b40",
   "metadata": {},
   "source": [
    "The next column 'emp.var.rate' describes quarterly employment variation rate and should be cast as a float."
   ]
  },
  {
   "cell_type": "code",
   "execution_count": 37,
   "id": "580fdb10",
   "metadata": {},
   "outputs": [],
   "source": [
    "bank_df['emp.var.rate'] = bank_df['emp.var.rate'].astype(float)"
   ]
  },
  {
   "cell_type": "markdown",
   "id": "b73e258d",
   "metadata": {},
   "source": [
    "The 'cons.price.idx' column: consumer price index - monthly indicator - float."
   ]
  },
  {
   "cell_type": "code",
   "execution_count": 38,
   "id": "856cf571",
   "metadata": {},
   "outputs": [],
   "source": [
    "bank_df['cons.price.idx'] = bank_df['cons.price.idx'].astype(float)"
   ]
  },
  {
   "cell_type": "markdown",
   "id": "d372397b",
   "metadata": {},
   "source": [
    "The 'cons.conf.idx' column: consumer confidence index - monthly indicator - float."
   ]
  },
  {
   "cell_type": "code",
   "execution_count": 39,
   "id": "b76ea4b8",
   "metadata": {},
   "outputs": [],
   "source": [
    "bank_df['cons.conf.idx'] = bank_df['cons.conf.idx'].astype(float)"
   ]
  },
  {
   "cell_type": "markdown",
   "id": "ee01dc10",
   "metadata": {},
   "source": [
    "The 'euribor3m' column: euribor 3 month rate - daily indicator - float."
   ]
  },
  {
   "cell_type": "code",
   "execution_count": 40,
   "id": "10424668",
   "metadata": {},
   "outputs": [],
   "source": [
    "bank_df['euribor3m'] = bank_df['euribor3m'].astype(float)"
   ]
  },
  {
   "cell_type": "markdown",
   "id": "7dcb3c06",
   "metadata": {},
   "source": [
    "The 'nr.employed' columns: number of employees - quarterly indicator - float.<br><br>\n",
    "I'm not sure how the number of employees can have fractions but this indicator might mean something else which is unspecified so we'll leave it as a float for now."
   ]
  },
  {
   "cell_type": "code",
   "execution_count": 41,
   "id": "fb83a68b",
   "metadata": {},
   "outputs": [],
   "source": [
    "bank_df['nr.employed'] = bank_df['nr.employed'].astype(float)"
   ]
  },
  {
   "cell_type": "markdown",
   "id": "9e136271",
   "metadata": {},
   "source": [
    "Finally, we have our target value - y. Which indicates whether or not the client subscribed a term deposit."
   ]
  },
  {
   "cell_type": "code",
   "execution_count": 42,
   "id": "99f95d71",
   "metadata": {},
   "outputs": [
    {
     "data": {
      "text/plain": [
       "y\n",
       "\"no\"     36548\n",
       "\"yes\"     4640\n",
       "Name: count, dtype: int64"
      ]
     },
     "execution_count": 42,
     "metadata": {},
     "output_type": "execute_result"
    }
   ],
   "source": [
    "bank_df['y'].value_counts()"
   ]
  },
  {
   "cell_type": "code",
   "execution_count": 43,
   "id": "7ca3266d",
   "metadata": {
    "scrolled": false
   },
   "outputs": [
    {
     "data": {
      "text/plain": [
       "y\n",
       "0    36548\n",
       "1     4640\n",
       "Name: count, dtype: int64"
      ]
     },
     "execution_count": 43,
     "metadata": {},
     "output_type": "execute_result"
    }
   ],
   "source": [
    "target_mapping = {\n",
    "    '\"no\"' : 0,\n",
    "    '\"yes\"' : 1\n",
    "}\n",
    "\n",
    "bank_df['y'] = bank_df['y'].replace(target_mapping)\n",
    "bank_df['y'].value_counts()"
   ]
  },
  {
   "cell_type": "markdown",
   "id": "d4b49241",
   "metadata": {},
   "source": [
    "Let's look at the data types again."
   ]
  },
  {
   "cell_type": "code",
   "execution_count": 44,
   "id": "d49920c1",
   "metadata": {},
   "outputs": [
    {
     "data": {
      "text/plain": [
       "age                 int32\n",
       "job                object\n",
       "marital            object\n",
       "education          object\n",
       "housing           float64\n",
       "loan              float64\n",
       "contact            object\n",
       "month              object\n",
       "day_of_week        object\n",
       "duration            int32\n",
       "campaign            int32\n",
       "pdays             float64\n",
       "previous            int32\n",
       "poutcome          float64\n",
       "emp.var.rate      float64\n",
       "cons.price.idx    float64\n",
       "cons.conf.idx     float64\n",
       "euribor3m         float64\n",
       "nr.employed       float64\n",
       "y                   int64\n",
       "dtype: object"
      ]
     },
     "execution_count": 44,
     "metadata": {},
     "output_type": "execute_result"
    }
   ],
   "source": [
    "bank_df.dtypes"
   ]
  },
  {
   "cell_type": "markdown",
   "id": "052e1baa",
   "metadata": {},
   "source": [
    "That concludes the data cleaning part."
   ]
  },
  {
   "cell_type": "markdown",
   "id": "531d8482",
   "metadata": {},
   "source": [
    "## 3. Data analysis based on socio-demographic influences\n",
    "To start I will look at the distributions and central tendencies of individual attributes in relation to our target variable 'y'.<br><br>\n",
    "\n",
    "### 3.1 Age and age groups\n",
    "Going over each column again, starting with 'age'.<br>\n",
    "First let's create bins for the age groups, I will use the following categories:\n",
    "1. 20-29\n",
    "2. 30-39\n",
    "3. 40-49\n",
    "4. 50-59\n",
    "5. Over 60"
   ]
  },
  {
   "cell_type": "code",
   "execution_count": 45,
   "id": "373406a8",
   "metadata": {
    "scrolled": true
   },
   "outputs": [
    {
     "data": {
      "text/plain": [
       "(75, 20)"
      ]
     },
     "execution_count": 45,
     "metadata": {},
     "output_type": "execute_result"
    }
   ],
   "source": [
    "bank_df[bank_df['age'] < 20].shape"
   ]
  },
  {
   "cell_type": "markdown",
   "id": "5bc4eac6",
   "metadata": {},
   "source": [
    "As you can see there's only 75 entries for people below 20 which amounts to less than 0.2% so I will not be taking those into account here."
   ]
  },
  {
   "cell_type": "code",
   "execution_count": 46,
   "id": "15ca5c83",
   "metadata": {},
   "outputs": [
    {
     "data": {
      "text/plain": [
       "age_group\n",
       "30-39      41.20\n",
       "40-49      25.60\n",
       "50-59      16.69\n",
       "20-29      13.61\n",
       "Over 60     2.90\n",
       "Name: proportion, dtype: float64"
      ]
     },
     "execution_count": 46,
     "metadata": {},
     "output_type": "execute_result"
    }
   ],
   "source": [
    "bins = [20, 30, 40, 50, 60, float('inf')]\n",
    "labels = ['20-29', '30-39', '40-49', '50-59', 'Over 60']\n",
    "\n",
    "bank_df['age_group'] = pd.cut(bank_df['age'], bins=bins, labels=labels, right=False)\n",
    "\n",
    "age_percentages = bank_df['age_group'].value_counts(normalize=True) * 100\n",
    "age_percentages.round(2)"
   ]
  },
  {
   "cell_type": "markdown",
   "id": "a308567f",
   "metadata": {},
   "source": [
    "People of ages 30-39 amount to 41.2% of the dataset.<br>\n",
    "People of ages 30-49 amount to 66.8% of the dataset.<br>\n",
    "The remaining is almost evenly split between people in their 20s or 50s with slightly more people in their 50s.<br>\n",
    "People over 60 amount to less than 3% of the dataset.<br><br>\n",
    "I will now plot the distribution of the age groups with the proportion of our target variable 'y'."
   ]
  },
  {
   "cell_type": "code",
   "execution_count": 47,
   "id": "9dd9b063",
   "metadata": {
    "scrolled": false
   },
   "outputs": [
    {
     "data": {
      "image/png": "[encoded data removed]",
      "text/plain": [
       "<Figure size 1000x600 with 1 Axes>"
      ]
     },
     "metadata": {},
     "output_type": "display_data"
    }
   ],
   "source": [
    "counts = bank_df.groupby(['age_group', 'y']).size().unstack()\n",
    "proportions = counts.div(counts.sum(axis=1), axis=0)\n",
    "\n",
    "plt.figure(figsize=(10, 6))\n",
    "\n",
    "counts.plot(kind='bar', stacked=True, color=['steelblue', 'sandybrown'], ax=plt.gca())\n",
    "\n",
    "plt.title('Distribution of Age Groups with Proportion of y=0 and y=1', fontsize=16)\n",
    "plt.xlabel('Age Group', fontsize=14)\n",
    "plt.ylabel('Number of Individuals', fontsize=14)\n",
    "plt.legend(title='y', loc='upper right')\n",
    "plt.xticks(rotation=45)\n",
    "\n",
    "plt.show()"
   ]
  },
  {
   "cell_type": "code",
   "execution_count": 48,
   "id": "fbc06192",
   "metadata": {
    "scrolled": true
   },
   "outputs": [
    {
     "data": {
      "text/plain": [
       "age_group\n",
       "Over 60    39.56\n",
       "20-29      15.87\n",
       "50-59      10.16\n",
       "30-39      10.13\n",
       "40-49       7.92\n",
       "Name: 1, dtype: float64"
      ]
     },
     "execution_count": 48,
     "metadata": {},
     "output_type": "execute_result"
    }
   ],
   "source": [
    "(proportions.sort_values(by=0)*100).round(2)[1]"
   ]
  },
  {
   "cell_type": "markdown",
   "id": "9fa81eb2",
   "metadata": {},
   "source": [
    "The biggest proportion of target value y=1 is for the age group of people over 60 by far, however the age group amounts to less than 3% of the dataset so there is a considerable risk for bias here.<br><br>\n",
    "The age group of 20-29 seems to have a moderately larger proportion for our target value but it's also less represented in the dataset.<br><br>\n",
    "Let's do a chi-squared test to see if there is a statistically significant assosiation."
   ]
  },
  {
   "cell_type": "code",
   "execution_count": 49,
   "id": "7408fa39",
   "metadata": {},
   "outputs": [
    {
     "data": {
      "text/html": [
       "<div>\n",
       "<style scoped>\n",
       "    .dataframe tbody tr th:only-of-type {\n",
       "        vertical-align: middle;\n",
       "    }\n",
       "\n",
       "    .dataframe tbody tr th {\n",
       "        vertical-align: top;\n",
       "    }\n",
       "\n",
       "    .dataframe thead th {\n",
       "        text-align: right;\n",
       "    }\n",
       "</style>\n",
       "<table border=\"1\" class=\"dataframe\">\n",
       "  <thead>\n",
       "    <tr style=\"text-align: right;\">\n",
       "      <th>y</th>\n",
       "      <th>0</th>\n",
       "      <th>1</th>\n",
       "    </tr>\n",
       "    <tr>\n",
       "      <th>age_group</th>\n",
       "      <th></th>\n",
       "      <th></th>\n",
       "    </tr>\n",
       "  </thead>\n",
       "  <tbody>\n",
       "    <tr>\n",
       "      <th>20-29</th>\n",
       "      <td>4706</td>\n",
       "      <td>888</td>\n",
       "    </tr>\n",
       "    <tr>\n",
       "      <th>30-39</th>\n",
       "      <td>15223</td>\n",
       "      <td>1715</td>\n",
       "    </tr>\n",
       "    <tr>\n",
       "      <th>40-49</th>\n",
       "      <td>9692</td>\n",
       "      <td>834</td>\n",
       "    </tr>\n",
       "    <tr>\n",
       "      <th>50-59</th>\n",
       "      <td>6165</td>\n",
       "      <td>697</td>\n",
       "    </tr>\n",
       "    <tr>\n",
       "      <th>Over 60</th>\n",
       "      <td>721</td>\n",
       "      <td>472</td>\n",
       "    </tr>\n",
       "  </tbody>\n",
       "</table>\n",
       "</div>"
      ],
      "text/plain": [
       "y              0     1\n",
       "age_group             \n",
       "20-29       4706   888\n",
       "30-39      15223  1715\n",
       "40-49       9692   834\n",
       "50-59       6165   697\n",
       "Over 60      721   472"
      ]
     },
     "execution_count": 49,
     "metadata": {},
     "output_type": "execute_result"
    }
   ],
   "source": [
    "contingency_table = pd.crosstab(bank_df['age_group'], bank_df['y'])\n",
    "contingency_table.sort_index()"
   ]
  },
  {
   "cell_type": "code",
   "execution_count": 50,
   "id": "33adbb4d",
   "metadata": {},
   "outputs": [
    {
     "data": {
      "text/plain": [
       "1228.429928647577"
      ]
     },
     "execution_count": 50,
     "metadata": {},
     "output_type": "execute_result"
    }
   ],
   "source": [
    "chi2, p, dof, ex = chi2_contingency(contingency_table)\n",
    "chi2"
   ]
  },
  {
   "cell_type": "markdown",
   "id": "32ea34c4",
   "metadata": {},
   "source": [
    "A Chi-Square statistic of 1228.43 is very large, indicating that there is a significant difference between the observed and expected frequencies in our contingency table."
   ]
  },
  {
   "cell_type": "code",
   "execution_count": 51,
   "id": "21926c5e",
   "metadata": {
    "scrolled": true
   },
   "outputs": [
    {
     "data": {
      "text/plain": [
       "1.093596678119617e-264"
      ]
     },
     "execution_count": 51,
     "metadata": {},
     "output_type": "execute_result"
    }
   ],
   "source": [
    "p"
   ]
  },
  {
   "cell_type": "markdown",
   "id": "20877462",
   "metadata": {},
   "source": [
    "A p-value of 1.0936e-264 is astronomically small, much smaller than the common significance level of 0.05.\n",
    "\n",
    "Based on the chi-squared test it is highly unlikely that these results are by chance and it shows strong significance of the age group towards the outcome of the target variable. <br><br>\n",
    "Another way to look at the age attribute would be to see the spread of data among the two groups of target variable y=0 and y=1 based on age. First let's do some box plots for this purpose."
   ]
  },
  {
   "cell_type": "code",
   "execution_count": 52,
   "id": "fa1e9d27",
   "metadata": {},
   "outputs": [
    {
     "data": {
      "image/png": "[encoded data removed]",
      "text/plain": [
       "<Figure size 1000x600 with 1 Axes>"
      ]
     },
     "metadata": {},
     "output_type": "display_data"
    }
   ],
   "source": [
    "plt.figure(figsize=(10, 6))\n",
    "sns.boxplot(x='y', y='age', data=bank_df, palette = ['steelblue', 'sandybrown'])\n",
    "plt.title('Box Plot of Age by y')\n",
    "plt.xlabel('y')\n",
    "plt.ylabel('Age')\n",
    "plt.show()"
   ]
  },
  {
   "cell_type": "markdown",
   "id": "23b4634a",
   "metadata": {},
   "source": [
    "Looking at the box plots there doesn't seem to be a strong relationship between the spread of age for the two groups. But there is a slight difference in that people with bank subscriptions have more datapoints on the higher end of the age attribute.\n",
    "\n",
    "Let's look at the Point-Biserial correlation which measures the relationship between a continuous variable like age and our binary target variable."
   ]
  },
  {
   "cell_type": "code",
   "execution_count": 53,
   "id": "dc71a5b9",
   "metadata": {},
   "outputs": [
    {
     "data": {
      "text/plain": [
       "0.030398803040003714"
      ]
     },
     "execution_count": 53,
     "metadata": {},
     "output_type": "execute_result"
    }
   ],
   "source": [
    "correlation, p_value = pointbiserialr(bank_df['age'], bank_df['y'])\n",
    "\n",
    "correlation"
   ]
  },
  {
   "cell_type": "markdown",
   "id": "df31ca3d",
   "metadata": {},
   "source": [
    "Based on the box plots and correlation there seems to be no significant relationship between the target variable and age, but based on our chi-squared statistic it seems that there is a difference between certain age groups, the most attractive ones for marketing campaigns seem to be:\n",
    "1. People over 60\n",
    "2. People aged 20-29\n",
    "3. People aged 30-39 and 50-59\n",
    "\n",
    "People in their 40s generally have less deposits in the bank and we would need more information about people up to 20 years."
   ]
  },
  {
   "cell_type": "markdown",
   "id": "d194d3cd",
   "metadata": {},
   "source": [
    "### 3.2 Occupations\n",
    "\n",
    "First let's plot the distribution of employment categories."
   ]
  },
  {
   "cell_type": "code",
   "execution_count": 54,
   "id": "05bf2089",
   "metadata": {
    "scrolled": false
   },
   "outputs": [
    {
     "data": {
      "image/png": "[encoded data removed]",
      "text/plain": [
       "<Figure size 1000x600 with 1 Axes>"
      ]
     },
     "metadata": {},
     "output_type": "display_data"
    }
   ],
   "source": [
    "job_counts = bank_df['job'].value_counts()\n",
    "\n",
    "colors = sns.color_palette(\"Spectral_r\", len(job_counts)+3)\n",
    "\n",
    "plt.figure(figsize=(10, 6))\n",
    "sns.barplot(x=job_counts.index, y=job_counts.values, palette=colors)\n",
    "plt.title('Distribution by Occupation', fontsize=16)\n",
    "plt.xlabel('Occupation', fontsize=14)\n",
    "plt.ylabel('Number of Individuals', fontsize=14)\n",
    "plt.xticks(rotation=45)\n",
    "plt.show()"
   ]
  },
  {
   "cell_type": "markdown",
   "id": "e893db50",
   "metadata": {},
   "source": [
    "So as we can see the top five occupations in the dataset are:\n",
    "1. Administrators (Over 10k)\n",
    "2. Blue-collar workers (Around 9k)\n",
    "3. Technicians (Around 7k)\n",
    "4. Service workers (Around 4k)\n",
    "5. Managers (Around 3k)\n",
    "\n",
    "And the bottom five based on number of individuals:\n",
    "1. Students\n",
    "2. Unemployed\n",
    "3. Housemaids\n",
    "4. Self-employed\n",
    "5. Entrepreneurs\n",
    "\n",
    "All somewhere in the range of 1000-1800 entries.\n",
    "\n",
    "Now let's look at the proportion of our target variable for each category."
   ]
  },
  {
   "cell_type": "code",
   "execution_count": 55,
   "id": "e61defd9",
   "metadata": {
    "scrolled": true
   },
   "outputs": [
    {
     "data": {
      "text/plain": [
       "job\n",
       "Student          31.43\n",
       "Retired          25.23\n",
       "Unemployed       14.20\n",
       "Admin            12.97\n",
       "Management       11.22\n",
       "Technician       10.83\n",
       "Self-employed    10.49\n",
       "Housemaid        10.00\n",
       "Entrepreneur      8.52\n",
       "Services          8.14\n",
       "Blue-collar       6.89\n",
       "Name: 1, dtype: float64"
      ]
     },
     "execution_count": 55,
     "metadata": {},
     "output_type": "execute_result"
    }
   ],
   "source": [
    "counts = bank_df.groupby(['job', 'y']).size().unstack()\n",
    "proportions = counts.div(counts.sum(axis=1), axis=0)\n",
    "\n",
    "sorted_proportions = (proportions.sort_values(by=0)*100).round(2)[1]\n",
    "sorted_proportions"
   ]
  },
  {
   "cell_type": "markdown",
   "id": "7568ffbb",
   "metadata": {},
   "source": [
    "Let's plot these to better visualize the groups and their proportion of our target variable."
   ]
  },
  {
   "cell_type": "code",
   "execution_count": 56,
   "id": "8f678dd8",
   "metadata": {},
   "outputs": [
    {
     "data": {
      "image/png": "[encoded data removed]",
      "text/plain": [
       "<Figure size 1200x800 with 1 Axes>"
      ]
     },
     "metadata": {},
     "output_type": "display_data"
    }
   ],
   "source": [
    "colors = sns.color_palette(\"Spectral_r\", len(counts))\n",
    "\n",
    "plt.figure(figsize = (12, 8))\n",
    "sns.barplot(x=sorted_proportions.index, y=sorted_proportions, palette=colors)\n",
    "plt.title('Proportion of y=1 Across Job Categories', fontsize=16)\n",
    "plt.xlabel('Job Category', fontsize=14)\n",
    "plt.ylabel('Proportion of y=1 (%)', fontsize=14)\n",
    "plt.xticks(rotation=45, ha='right')\n",
    "\n",
    "plt.show()"
   ]
  },
  {
   "cell_type": "markdown",
   "id": "ef8b4cf2",
   "metadata": {},
   "source": [
    "So the top three groups of occupation based on our target variable are actually:\n",
    "1. Students\n",
    "2. Retired\n",
    "3. Unemployed\n",
    "\n",
    "And the three groups with the lowest proportion of our target variable are:\n",
    "1. Blue-collar\n",
    "2. Service \n",
    "3. Entrepreneurs\n",
    "\n",
    "However the students and unemployed are one of the smaller groups in the dataset so again we might be seeing some bias. Let's do a chi-squared test again to look at the significance of the difference between these groups."
   ]
  },
  {
   "cell_type": "code",
   "execution_count": 57,
   "id": "fb67e8d7",
   "metadata": {},
   "outputs": [
    {
     "data": {
      "text/html": [
       "<div>\n",
       "<style scoped>\n",
       "    .dataframe tbody tr th:only-of-type {\n",
       "        vertical-align: middle;\n",
       "    }\n",
       "\n",
       "    .dataframe tbody tr th {\n",
       "        vertical-align: top;\n",
       "    }\n",
       "\n",
       "    .dataframe thead th {\n",
       "        text-align: right;\n",
       "    }\n",
       "</style>\n",
       "<table border=\"1\" class=\"dataframe\">\n",
       "  <thead>\n",
       "    <tr style=\"text-align: right;\">\n",
       "      <th>y</th>\n",
       "      <th>0</th>\n",
       "      <th>1</th>\n",
       "    </tr>\n",
       "    <tr>\n",
       "      <th>job</th>\n",
       "      <th></th>\n",
       "      <th></th>\n",
       "    </tr>\n",
       "  </thead>\n",
       "  <tbody>\n",
       "    <tr>\n",
       "      <th>Admin</th>\n",
       "      <td>9070</td>\n",
       "      <td>1352</td>\n",
       "    </tr>\n",
       "    <tr>\n",
       "      <th>Blue-collar</th>\n",
       "      <td>8616</td>\n",
       "      <td>638</td>\n",
       "    </tr>\n",
       "    <tr>\n",
       "      <th>Entrepreneur</th>\n",
       "      <td>1332</td>\n",
       "      <td>124</td>\n",
       "    </tr>\n",
       "    <tr>\n",
       "      <th>Housemaid</th>\n",
       "      <td>954</td>\n",
       "      <td>106</td>\n",
       "    </tr>\n",
       "    <tr>\n",
       "      <th>Management</th>\n",
       "      <td>2596</td>\n",
       "      <td>328</td>\n",
       "    </tr>\n",
       "    <tr>\n",
       "      <th>Retired</th>\n",
       "      <td>1286</td>\n",
       "      <td>434</td>\n",
       "    </tr>\n",
       "    <tr>\n",
       "      <th>Self-employed</th>\n",
       "      <td>1272</td>\n",
       "      <td>149</td>\n",
       "    </tr>\n",
       "    <tr>\n",
       "      <th>Services</th>\n",
       "      <td>3646</td>\n",
       "      <td>323</td>\n",
       "    </tr>\n",
       "    <tr>\n",
       "      <th>Student</th>\n",
       "      <td>600</td>\n",
       "      <td>275</td>\n",
       "    </tr>\n",
       "    <tr>\n",
       "      <th>Technician</th>\n",
       "      <td>6013</td>\n",
       "      <td>730</td>\n",
       "    </tr>\n",
       "    <tr>\n",
       "      <th>Unemployed</th>\n",
       "      <td>870</td>\n",
       "      <td>144</td>\n",
       "    </tr>\n",
       "  </tbody>\n",
       "</table>\n",
       "</div>"
      ],
      "text/plain": [
       "y                 0     1\n",
       "job                      \n",
       "Admin          9070  1352\n",
       "Blue-collar    8616   638\n",
       "Entrepreneur   1332   124\n",
       "Housemaid       954   106\n",
       "Management     2596   328\n",
       "Retired        1286   434\n",
       "Self-employed  1272   149\n",
       "Services       3646   323\n",
       "Student         600   275\n",
       "Technician     6013   730\n",
       "Unemployed      870   144"
      ]
     },
     "execution_count": 57,
     "metadata": {},
     "output_type": "execute_result"
    }
   ],
   "source": [
    "contingency_table = pd.crosstab(bank_df['job'], bank_df['y'])\n",
    "contingency_table.sort_index()"
   ]
  },
  {
   "cell_type": "code",
   "execution_count": 58,
   "id": "a9daf6c2",
   "metadata": {},
   "outputs": [
    {
     "data": {
      "text/plain": [
       "961.2094297885744"
      ]
     },
     "execution_count": 58,
     "metadata": {},
     "output_type": "execute_result"
    }
   ],
   "source": [
    "chi2, p, dof, ex = chi2_contingency(contingency_table)\n",
    "chi2"
   ]
  },
  {
   "cell_type": "code",
   "execution_count": 59,
   "id": "64350cc3",
   "metadata": {},
   "outputs": [
    {
     "data": {
      "text/plain": [
       "4.2324056799938595e-200"
      ]
     },
     "execution_count": 59,
     "metadata": {},
     "output_type": "execute_result"
    }
   ],
   "source": [
    "p"
   ]
  },
  {
   "cell_type": "markdown",
   "id": "471a60ad",
   "metadata": {},
   "source": [
    "Again we have a large chi-squared statistic and a miniscule p-value which indicates a strong statistical significance of the difference between our target value proportion for each of the job groups.\n",
    "\n",
    "So we have to conclude that based on our dataset the top three job categories with the most deposits are Students, Retired and Unemployed people based on proportion.\n",
    "\n",
    "While if you look at the raw numbers the occupations with the most subscriptions are:\n",
    "1. Admin\n",
    "2. Technician\n",
    "3. Blue-collar workers"
   ]
  },
  {
   "cell_type": "markdown",
   "id": "a7c22107",
   "metadata": {},
   "source": [
    "### 3.3 Marital status\n",
    "\n",
    "Again let's start with the distribution."
   ]
  },
  {
   "cell_type": "code",
   "execution_count": 60,
   "id": "df252380",
   "metadata": {},
   "outputs": [
    {
     "data": {
      "text/plain": [
       "marital\n",
       "Married     60.64\n",
       "Single      28.14\n",
       "Divorced    11.22\n",
       "Name: proportion, dtype: float64"
      ]
     },
     "execution_count": 60,
     "metadata": {},
     "output_type": "execute_result"
    }
   ],
   "source": [
    "marital_status = bank_df['marital'].value_counts(normalize=True)*100\n",
    "marital_status.round(2)"
   ]
  },
  {
   "cell_type": "markdown",
   "id": "d5822f63",
   "metadata": {},
   "source": [
    "So as we can see most of the individuals are married, a smaller part is single and about 11.2% are divorced."
   ]
  },
  {
   "cell_type": "code",
   "execution_count": 61,
   "id": "447619ed",
   "metadata": {
    "scrolled": false
   },
   "outputs": [
    {
     "data": {
      "image/png": "[encoded data removed]",
      "text/plain": [
       "<Figure size 1000x600 with 1 Axes>"
      ]
     },
     "metadata": {},
     "output_type": "display_data"
    }
   ],
   "source": [
    "colors = sns.color_palette(\"Spectral_r\", len(marital_status)+3)\n",
    "\n",
    "plt.figure(figsize=(10, 6))\n",
    "sns.barplot(x=marital_status.index, y=marital_status.values, palette=colors)\n",
    "plt.title('Distribution by Marital Status', fontsize=16)\n",
    "plt.xlabel('Marital Status', fontsize=14)\n",
    "plt.ylabel('Percentage', fontsize=14)\n",
    "plt.xticks(rotation=45)\n",
    "plt.show()"
   ]
  },
  {
   "cell_type": "markdown",
   "id": "272aa3b6",
   "metadata": {},
   "source": [
    "Now we'll take a look at the proportions of y."
   ]
  },
  {
   "cell_type": "code",
   "execution_count": 62,
   "id": "75a9f214",
   "metadata": {
    "scrolled": true
   },
   "outputs": [
    {
     "data": {
      "text/plain": [
       "marital\n",
       "Single      14.00\n",
       "Divorced    10.32\n",
       "Married     10.16\n",
       "Name: 1, dtype: float64"
      ]
     },
     "execution_count": 62,
     "metadata": {},
     "output_type": "execute_result"
    }
   ],
   "source": [
    "counts = bank_df.groupby(['marital', 'y']).size().unstack()\n",
    "proportions = counts.div(counts.sum(axis=1), axis=0)\n",
    "\n",
    "sorted_proportions = (proportions.sort_values(by=0)*100).round(2)[1]\n",
    "sorted_proportions"
   ]
  },
  {
   "cell_type": "markdown",
   "id": "92be56d4",
   "metadata": {},
   "source": [
    "Single people have a more than 35% larger proportion of deposits based on this data."
   ]
  },
  {
   "cell_type": "code",
   "execution_count": 63,
   "id": "8d410d8b",
   "metadata": {},
   "outputs": [
    {
     "data": {
      "text/html": [
       "<div>\n",
       "<style scoped>\n",
       "    .dataframe tbody tr th:only-of-type {\n",
       "        vertical-align: middle;\n",
       "    }\n",
       "\n",
       "    .dataframe tbody tr th {\n",
       "        vertical-align: top;\n",
       "    }\n",
       "\n",
       "    .dataframe thead th {\n",
       "        text-align: right;\n",
       "    }\n",
       "</style>\n",
       "<table border=\"1\" class=\"dataframe\">\n",
       "  <thead>\n",
       "    <tr style=\"text-align: right;\">\n",
       "      <th>y</th>\n",
       "      <th>0</th>\n",
       "      <th>1</th>\n",
       "    </tr>\n",
       "    <tr>\n",
       "      <th>marital</th>\n",
       "      <th></th>\n",
       "      <th></th>\n",
       "    </tr>\n",
       "  </thead>\n",
       "  <tbody>\n",
       "    <tr>\n",
       "      <th>Married</th>\n",
       "      <td>22396</td>\n",
       "      <td>2532</td>\n",
       "    </tr>\n",
       "    <tr>\n",
       "      <th>Single</th>\n",
       "      <td>9948</td>\n",
       "      <td>1620</td>\n",
       "    </tr>\n",
       "    <tr>\n",
       "      <th>Divorced</th>\n",
       "      <td>4136</td>\n",
       "      <td>476</td>\n",
       "    </tr>\n",
       "  </tbody>\n",
       "</table>\n",
       "</div>"
      ],
      "text/plain": [
       "y             0     1\n",
       "marital              \n",
       "Married   22396  2532\n",
       "Single     9948  1620\n",
       "Divorced   4136   476"
      ]
     },
     "execution_count": 63,
     "metadata": {},
     "output_type": "execute_result"
    }
   ],
   "source": [
    "contingency_table = pd.crosstab(bank_df['marital'], bank_df['y'])\n",
    "contingency_table.sort_values(by=1, ascending = False)"
   ]
  },
  {
   "cell_type": "code",
   "execution_count": 64,
   "id": "f3fd8450",
   "metadata": {},
   "outputs": [
    {
     "data": {
      "text/plain": [
       "121.60529977368248"
      ]
     },
     "execution_count": 64,
     "metadata": {},
     "output_type": "execute_result"
    }
   ],
   "source": [
    "chi2, p, dof, ex = chi2_contingency(contingency_table)\n",
    "chi2"
   ]
  },
  {
   "cell_type": "code",
   "execution_count": 65,
   "id": "f4fd1e22",
   "metadata": {
    "scrolled": true
   },
   "outputs": [
    {
     "data": {
      "text/plain": [
       "3.924141589479533e-27"
      ]
     },
     "execution_count": 65,
     "metadata": {},
     "output_type": "execute_result"
    }
   ],
   "source": [
    "p"
   ]
  },
  {
   "cell_type": "markdown",
   "id": "f8f029c4",
   "metadata": {},
   "source": [
    "Our chi-squared test shows that there is a high statistical significance in the difference of the marital status and our outcome variable.\n",
    "\n",
    "Based on our dataset we can conclude that single people are more attractive for our bank's marketing campaigns."
   ]
  },
  {
   "cell_type": "markdown",
   "id": "8b73d53f",
   "metadata": {},
   "source": [
    "### 3.4 Education\n",
    "\n",
    "Again we start with the distribution and then move on to the outcomes."
   ]
  },
  {
   "cell_type": "code",
   "execution_count": 66,
   "id": "f10bffcd",
   "metadata": {},
   "outputs": [
    {
     "data": {
      "text/plain": [
       "education\n",
       "University degree      30.84\n",
       "High school            24.11\n",
       "Basic 9y               15.32\n",
       "Professional course    13.29\n",
       "Basic 4y               10.58\n",
       "Basic 6y                5.81\n",
       "Illiterate              0.05\n",
       "Name: proportion, dtype: float64"
      ]
     },
     "execution_count": 66,
     "metadata": {},
     "output_type": "execute_result"
    }
   ],
   "source": [
    "education = bank_df['education'].value_counts(normalize=True)*100\n",
    "education.round(2)"
   ]
  },
  {
   "cell_type": "markdown",
   "id": "4a3c7c25",
   "metadata": {},
   "source": [
    "So a small fraction of people in the dataset are illiterate and I will not be taking them into account."
   ]
  },
  {
   "cell_type": "code",
   "execution_count": 67,
   "id": "4e2d170d",
   "metadata": {
    "scrolled": false
   },
   "outputs": [
    {
     "data": {
      "image/png": "[encoded data removed]",
      "text/plain": [
       "<Figure size 1000x600 with 1 Axes>"
      ]
     },
     "metadata": {},
     "output_type": "display_data"
    }
   ],
   "source": [
    "education = education.drop('Illiterate')\n",
    "\n",
    "colors = sns.color_palette(\"Spectral_r\", len(education)+1)\n",
    "\n",
    "plt.figure(figsize=(10, 6))\n",
    "sns.barplot(x=education.index, y=education.values, palette=colors)\n",
    "plt.title('Distribution by Education', fontsize=16)\n",
    "plt.xlabel('Education', fontsize=14)\n",
    "plt.ylabel('Percentage', fontsize=14)\n",
    "plt.xticks(rotation=45)\n",
    "plt.show()"
   ]
  },
  {
   "cell_type": "markdown",
   "id": "72eb4ba1",
   "metadata": {},
   "source": [
    "Almost a third of the entries (30.8%) are people with University degrees.<br><br>\n",
    "The second most popular is finishing high school at around 24%. <br><br>\n",
    "We have the least amount of entries for those who finished 6th grade at around 6%. <br><br>\n",
    "And a whopping 10.6% of people who finished just 4th grade.\n",
    "\n",
    "<br>\n",
    "Now let's do the proportions of y."
   ]
  },
  {
   "cell_type": "code",
   "execution_count": 68,
   "id": "e96112c5",
   "metadata": {},
   "outputs": [
    {
     "data": {
      "text/plain": [
       "education\n",
       "University degree      13.72\n",
       "Professional course    11.35\n",
       "High school            10.84\n",
       "Basic 4y               10.25\n",
       "Basic 6y                8.20\n",
       "Basic 9y                7.82\n",
       "Name: 1, dtype: float64"
      ]
     },
     "execution_count": 68,
     "metadata": {},
     "output_type": "execute_result"
    }
   ],
   "source": [
    "counts = bank_df.groupby(['education', 'y']).size().unstack()\n",
    "proportions = counts.div(counts.sum(axis=1), axis=0)\n",
    "proportions = proportions.drop('Illiterate', axis=0)\n",
    "\n",
    "sorted_proportions = (proportions.sort_values(by=0)*100).round(2)[1]\n",
    "sorted_proportions"
   ]
  },
  {
   "cell_type": "markdown",
   "id": "a037fc38",
   "metadata": {},
   "source": [
    "The top three education groups with the highest amount of deposits proportionally are:\n",
    "1. People with University degrees\n",
    "2. People with professional certificates\n",
    "3. People who at least finished high school\n",
    "\n",
    "While the three lower groups are the ones with 9, 6 or 4 years of basic schooling."
   ]
  },
  {
   "cell_type": "code",
   "execution_count": 69,
   "id": "0bab8a93",
   "metadata": {},
   "outputs": [
    {
     "data": {
      "text/plain": [
       "education\n",
       "University degree      12168\n",
       "High school             9515\n",
       "Basic 9y                6045\n",
       "Professional course     5243\n",
       "Basic 4y                4176\n",
       "Basic 6y                2292\n",
       "Illiterate                18\n",
       "Name: count, dtype: int64"
      ]
     },
     "execution_count": 69,
     "metadata": {},
     "output_type": "execute_result"
    }
   ],
   "source": [
    "education_count = bank_df['education'].value_counts()\n",
    "education_count"
   ]
  },
  {
   "cell_type": "markdown",
   "id": "46500422",
   "metadata": {},
   "source": [
    "If we look at the raw numbers then people with professional certificates fall two places down below Basic 9 year education."
   ]
  },
  {
   "cell_type": "code",
   "execution_count": 70,
   "id": "90bd3095",
   "metadata": {},
   "outputs": [
    {
     "data": {
      "text/html": [
       "<div>\n",
       "<style scoped>\n",
       "    .dataframe tbody tr th:only-of-type {\n",
       "        vertical-align: middle;\n",
       "    }\n",
       "\n",
       "    .dataframe tbody tr th {\n",
       "        vertical-align: top;\n",
       "    }\n",
       "\n",
       "    .dataframe thead th {\n",
       "        text-align: right;\n",
       "    }\n",
       "</style>\n",
       "<table border=\"1\" class=\"dataframe\">\n",
       "  <thead>\n",
       "    <tr style=\"text-align: right;\">\n",
       "      <th>y</th>\n",
       "      <th>0</th>\n",
       "      <th>1</th>\n",
       "    </tr>\n",
       "    <tr>\n",
       "      <th>education</th>\n",
       "      <th></th>\n",
       "      <th></th>\n",
       "    </tr>\n",
       "  </thead>\n",
       "  <tbody>\n",
       "    <tr>\n",
       "      <th>University degree</th>\n",
       "      <td>10498</td>\n",
       "      <td>1670</td>\n",
       "    </tr>\n",
       "    <tr>\n",
       "      <th>High school</th>\n",
       "      <td>8484</td>\n",
       "      <td>1031</td>\n",
       "    </tr>\n",
       "    <tr>\n",
       "      <th>Professional course</th>\n",
       "      <td>4648</td>\n",
       "      <td>595</td>\n",
       "    </tr>\n",
       "    <tr>\n",
       "      <th>Basic 9y</th>\n",
       "      <td>5572</td>\n",
       "      <td>473</td>\n",
       "    </tr>\n",
       "    <tr>\n",
       "      <th>Basic 4y</th>\n",
       "      <td>3748</td>\n",
       "      <td>428</td>\n",
       "    </tr>\n",
       "    <tr>\n",
       "      <th>Basic 6y</th>\n",
       "      <td>2104</td>\n",
       "      <td>188</td>\n",
       "    </tr>\n",
       "  </tbody>\n",
       "</table>\n",
       "</div>"
      ],
      "text/plain": [
       "y                        0     1\n",
       "education                       \n",
       "University degree    10498  1670\n",
       "High school           8484  1031\n",
       "Professional course   4648   595\n",
       "Basic 9y              5572   473\n",
       "Basic 4y              3748   428\n",
       "Basic 6y              2104   188"
      ]
     },
     "execution_count": 70,
     "metadata": {},
     "output_type": "execute_result"
    }
   ],
   "source": [
    "contingency_table = pd.crosstab(bank_df['education'], bank_df['y'])\n",
    "contingency_table = contingency_table.drop('Illiterate',axis=0)\n",
    "contingency_table.sort_values(by=1, ascending = False)"
   ]
  },
  {
   "cell_type": "code",
   "execution_count": 71,
   "id": "c5be5609",
   "metadata": {},
   "outputs": [
    {
     "data": {
      "text/plain": [
       "173.95655949737198"
      ]
     },
     "execution_count": 71,
     "metadata": {},
     "output_type": "execute_result"
    }
   ],
   "source": [
    "chi2, p, dof, ex = chi2_contingency(contingency_table)\n",
    "chi2"
   ]
  },
  {
   "cell_type": "code",
   "execution_count": 72,
   "id": "cd9a49d9",
   "metadata": {},
   "outputs": [
    {
     "data": {
      "text/plain": [
       "1.0441454997174105e-35"
      ]
     },
     "execution_count": 72,
     "metadata": {},
     "output_type": "execute_result"
    }
   ],
   "source": [
    "p"
   ]
  },
  {
   "cell_type": "markdown",
   "id": "bc3fe218",
   "metadata": {},
   "source": [
    "The test shows significant differences in the amount of bank deposits made by people based on education and a higher education level is correlated with a larger chance of a successful outcome for the bank."
   ]
  },
  {
   "cell_type": "markdown",
   "id": "d621591f",
   "metadata": {},
   "source": [
    "### 3.5 Housing"
   ]
  },
  {
   "cell_type": "code",
   "execution_count": 73,
   "id": "5c4d8c22",
   "metadata": {},
   "outputs": [
    {
     "data": {
      "text/plain": [
       "housing\n",
       "1.0    53.67\n",
       "0.0    46.33\n",
       "Name: proportion, dtype: float64"
      ]
     },
     "execution_count": 73,
     "metadata": {},
     "output_type": "execute_result"
    }
   ],
   "source": [
    "housing = bank_df['housing'].value_counts(normalize=True)*100\n",
    "housing.round(2)"
   ]
  },
  {
   "cell_type": "code",
   "execution_count": 74,
   "id": "013f92eb",
   "metadata": {},
   "outputs": [
    {
     "data": {
      "text/plain": [
       "housing\n",
       "1.0    11.62\n",
       "0.0    10.88\n",
       "Name: 1, dtype: float64"
      ]
     },
     "execution_count": 74,
     "metadata": {},
     "output_type": "execute_result"
    }
   ],
   "source": [
    "counts = bank_df.groupby(['housing', 'y']).size().unstack()\n",
    "proportions = counts.div(counts.sum(axis=1), axis=0)\n",
    "\n",
    "sorted_proportions = (proportions.sort_values(by=0)*100).round(2)[1]\n",
    "sorted_proportions"
   ]
  },
  {
   "cell_type": "markdown",
   "id": "9f4150f8",
   "metadata": {},
   "source": [
    "The difference in proportion of each group based on both datapoints and on proportion of target outcomes is not huge but based on our dataset there seems to be almost a 7% increase in proportion of of bank deposits for people who have their own housing."
   ]
  },
  {
   "cell_type": "code",
   "execution_count": 75,
   "id": "0fe6e402",
   "metadata": {},
   "outputs": [
    {
     "data": {
      "text/html": [
       "<div>\n",
       "<style scoped>\n",
       "    .dataframe tbody tr th:only-of-type {\n",
       "        vertical-align: middle;\n",
       "    }\n",
       "\n",
       "    .dataframe tbody tr th {\n",
       "        vertical-align: top;\n",
       "    }\n",
       "\n",
       "    .dataframe thead th {\n",
       "        text-align: right;\n",
       "    }\n",
       "</style>\n",
       "<table border=\"1\" class=\"dataframe\">\n",
       "  <thead>\n",
       "    <tr style=\"text-align: right;\">\n",
       "      <th>y</th>\n",
       "      <th>0</th>\n",
       "      <th>1</th>\n",
       "    </tr>\n",
       "    <tr>\n",
       "      <th>housing</th>\n",
       "      <th></th>\n",
       "      <th></th>\n",
       "    </tr>\n",
       "  </thead>\n",
       "  <tbody>\n",
       "    <tr>\n",
       "      <th>1.0</th>\n",
       "      <td>19069</td>\n",
       "      <td>2507</td>\n",
       "    </tr>\n",
       "    <tr>\n",
       "      <th>0.0</th>\n",
       "      <td>16596</td>\n",
       "      <td>2026</td>\n",
       "    </tr>\n",
       "  </tbody>\n",
       "</table>\n",
       "</div>"
      ],
      "text/plain": [
       "y            0     1\n",
       "housing             \n",
       "1.0      19069  2507\n",
       "0.0      16596  2026"
      ]
     },
     "execution_count": 75,
     "metadata": {},
     "output_type": "execute_result"
    }
   ],
   "source": [
    "contingency_table = pd.crosstab(bank_df['housing'], bank_df['y'])\n",
    "contingency_table.sort_values(by=1, ascending = False)"
   ]
  },
  {
   "cell_type": "code",
   "execution_count": 76,
   "id": "04a0ab76",
   "metadata": {},
   "outputs": [
    {
     "data": {
      "image/png": "[encoded data removed]",
      "text/plain": [
       "<Figure size 1000x600 with 1 Axes>"
      ]
     },
     "metadata": {},
     "output_type": "display_data"
    }
   ],
   "source": [
    "counts = bank_df.groupby(['housing', 'y']).size().unstack()\n",
    "proportions = counts.div(counts.sum(axis=1), axis=0)\n",
    "\n",
    "plt.figure(figsize=(10, 6))\n",
    "\n",
    "counts.plot(kind='bar', stacked=True, color=['steelblue', 'sandybrown'], ax=plt.gca())\n",
    "\n",
    "plt.title('Distribution of Housing with Proportion of y=0 and y=1', fontsize=16)\n",
    "plt.xlabel('Housing Loan', fontsize=14)\n",
    "plt.ylabel('Number of Individuals', fontsize=14)\n",
    "plt.legend(title='y', loc='upper right')\n",
    "plt.xticks(ticks=[0, 1], labels=['No', 'Yes'], rotation = 0)\n",
    "\n",
    "plt.show()"
   ]
  },
  {
   "cell_type": "code",
   "execution_count": 77,
   "id": "9ca1fba2",
   "metadata": {},
   "outputs": [
    {
     "data": {
      "text/plain": [
       "5.39379004452624"
      ]
     },
     "execution_count": 77,
     "metadata": {},
     "output_type": "execute_result"
    }
   ],
   "source": [
    "chi2, p, dof, ex = chi2_contingency(contingency_table)\n",
    "chi2"
   ]
  },
  {
   "cell_type": "code",
   "execution_count": 78,
   "id": "aec1e28e",
   "metadata": {},
   "outputs": [
    {
     "data": {
      "text/plain": [
       "0.02020853196455713"
      ]
     },
     "execution_count": 78,
     "metadata": {},
     "output_type": "execute_result"
    }
   ],
   "source": [
    "p"
   ]
  },
  {
   "cell_type": "markdown",
   "id": "eaa80277",
   "metadata": {},
   "source": [
    "Although the results are less significant compared to other attributes, they are still worthy of attention and housing can be used for predicting the target outcome, with an almost 7% increase for people who have housing loans based on the dataset."
   ]
  },
  {
   "cell_type": "markdown",
   "id": "fb224d45",
   "metadata": {},
   "source": [
    "### 3.6 Loan"
   ]
  },
  {
   "cell_type": "code",
   "execution_count": 79,
   "id": "3b5b4b02",
   "metadata": {
    "scrolled": true
   },
   "outputs": [
    {
     "data": {
      "text/plain": [
       "loan\n",
       "0.0    84.46\n",
       "1.0    15.54\n",
       "Name: proportion, dtype: float64"
      ]
     },
     "execution_count": 79,
     "metadata": {},
     "output_type": "execute_result"
    }
   ],
   "source": [
    "housing = bank_df['loan'].value_counts(normalize=True)*100\n",
    "housing.round(2)"
   ]
  },
  {
   "cell_type": "markdown",
   "id": "635cd15e",
   "metadata": {},
   "source": [
    "15.5% of the individuals in the dataset have personal loans."
   ]
  },
  {
   "cell_type": "code",
   "execution_count": 80,
   "id": "6b4ef812",
   "metadata": {},
   "outputs": [
    {
     "data": {
      "text/plain": [
       "loan\n",
       "0.0    11.34\n",
       "1.0    10.93\n",
       "Name: 1, dtype: float64"
      ]
     },
     "execution_count": 80,
     "metadata": {},
     "output_type": "execute_result"
    }
   ],
   "source": [
    "counts = bank_df.groupby(['loan', 'y']).size().unstack()\n",
    "proportions = counts.div(counts.sum(axis=1), axis=0)\n",
    "\n",
    "sorted_proportions = (proportions.sort_values(by=0)*100).round(2)[1]\n",
    "sorted_proportions"
   ]
  },
  {
   "cell_type": "markdown",
   "id": "1f43038e",
   "metadata": {},
   "source": [
    "The difference of proportion of target value for the two groups is even smaller this time at around 3.75%."
   ]
  },
  {
   "cell_type": "code",
   "execution_count": 81,
   "id": "41233fbb",
   "metadata": {},
   "outputs": [
    {
     "data": {
      "text/html": [
       "<div>\n",
       "<style scoped>\n",
       "    .dataframe tbody tr th:only-of-type {\n",
       "        vertical-align: middle;\n",
       "    }\n",
       "\n",
       "    .dataframe tbody tr th {\n",
       "        vertical-align: top;\n",
       "    }\n",
       "\n",
       "    .dataframe thead th {\n",
       "        text-align: right;\n",
       "    }\n",
       "</style>\n",
       "<table border=\"1\" class=\"dataframe\">\n",
       "  <thead>\n",
       "    <tr style=\"text-align: right;\">\n",
       "      <th>y</th>\n",
       "      <th>0</th>\n",
       "      <th>1</th>\n",
       "    </tr>\n",
       "    <tr>\n",
       "      <th>loan</th>\n",
       "      <th></th>\n",
       "      <th></th>\n",
       "    </tr>\n",
       "  </thead>\n",
       "  <tbody>\n",
       "    <tr>\n",
       "      <th>0.0</th>\n",
       "      <td>30100</td>\n",
       "      <td>3850</td>\n",
       "    </tr>\n",
       "    <tr>\n",
       "      <th>1.0</th>\n",
       "      <td>5565</td>\n",
       "      <td>683</td>\n",
       "    </tr>\n",
       "  </tbody>\n",
       "</table>\n",
       "</div>"
      ],
      "text/plain": [
       "y         0     1\n",
       "loan             \n",
       "0.0   30100  3850\n",
       "1.0    5565   683"
      ]
     },
     "execution_count": 81,
     "metadata": {},
     "output_type": "execute_result"
    }
   ],
   "source": [
    "contingency_table = pd.crosstab(bank_df['loan'], bank_df['y'])\n",
    "contingency_table"
   ]
  },
  {
   "cell_type": "code",
   "execution_count": 82,
   "id": "3f64e269",
   "metadata": {},
   "outputs": [
    {
     "data": {
      "text/plain": [
       "0.8406393365518647"
      ]
     },
     "execution_count": 82,
     "metadata": {},
     "output_type": "execute_result"
    }
   ],
   "source": [
    "chi2, p, dof, ex = chi2_contingency(contingency_table)\n",
    "chi2"
   ]
  },
  {
   "cell_type": "code",
   "execution_count": 83,
   "id": "41ca512d",
   "metadata": {},
   "outputs": [
    {
     "data": {
      "text/plain": [
       "0.35921398426348206"
      ]
     },
     "execution_count": 83,
     "metadata": {},
     "output_type": "execute_result"
    }
   ],
   "source": [
    "p"
   ]
  },
  {
   "cell_type": "markdown",
   "id": "6e2194e6",
   "metadata": {},
   "source": [
    "The difference between people with and without personal loans and the proportion of the groups' target values is not statistically significant."
   ]
  },
  {
   "cell_type": "markdown",
   "id": "d41e4ce7",
   "metadata": {},
   "source": [
    "### 3.7 Correlations\n",
    "Let's start by plotting a correlation matrix for the columns of interest.\n",
    "\n",
    "I will need to one-hot encode the categorical attributes first."
   ]
  },
  {
   "cell_type": "code",
   "execution_count": 84,
   "id": "79b2a504",
   "metadata": {},
   "outputs": [
    {
     "data": {
      "text/html": [
       "<div>\n",
       "<style scoped>\n",
       "    .dataframe tbody tr th:only-of-type {\n",
       "        vertical-align: middle;\n",
       "    }\n",
       "\n",
       "    .dataframe tbody tr th {\n",
       "        vertical-align: top;\n",
       "    }\n",
       "\n",
       "    .dataframe thead th {\n",
       "        text-align: right;\n",
       "    }\n",
       "</style>\n",
       "<table border=\"1\" class=\"dataframe\">\n",
       "  <thead>\n",
       "    <tr style=\"text-align: right;\">\n",
       "      <th></th>\n",
       "      <th>age</th>\n",
       "      <th>housing</th>\n",
       "      <th>loan</th>\n",
       "      <th>y</th>\n",
       "      <th>job_Blue-collar</th>\n",
       "      <th>job_Entrepreneur</th>\n",
       "      <th>job_Housemaid</th>\n",
       "      <th>job_Management</th>\n",
       "      <th>job_Retired</th>\n",
       "      <th>job_Self-employed</th>\n",
       "      <th>...</th>\n",
       "      <th>job_Technician</th>\n",
       "      <th>job_Unemployed</th>\n",
       "      <th>marital_Married</th>\n",
       "      <th>marital_Single</th>\n",
       "      <th>education_Basic 6y</th>\n",
       "      <th>education_Basic 9y</th>\n",
       "      <th>education_High school</th>\n",
       "      <th>education_Illiterate</th>\n",
       "      <th>education_Professional course</th>\n",
       "      <th>education_University degree</th>\n",
       "    </tr>\n",
       "  </thead>\n",
       "  <tbody>\n",
       "    <tr>\n",
       "      <th>0</th>\n",
       "      <td>56</td>\n",
       "      <td>0.0</td>\n",
       "      <td>0.0</td>\n",
       "      <td>0</td>\n",
       "      <td>False</td>\n",
       "      <td>False</td>\n",
       "      <td>True</td>\n",
       "      <td>False</td>\n",
       "      <td>False</td>\n",
       "      <td>False</td>\n",
       "      <td>...</td>\n",
       "      <td>False</td>\n",
       "      <td>False</td>\n",
       "      <td>True</td>\n",
       "      <td>False</td>\n",
       "      <td>False</td>\n",
       "      <td>False</td>\n",
       "      <td>False</td>\n",
       "      <td>False</td>\n",
       "      <td>False</td>\n",
       "      <td>False</td>\n",
       "    </tr>\n",
       "    <tr>\n",
       "      <th>1</th>\n",
       "      <td>57</td>\n",
       "      <td>0.0</td>\n",
       "      <td>0.0</td>\n",
       "      <td>0</td>\n",
       "      <td>False</td>\n",
       "      <td>False</td>\n",
       "      <td>False</td>\n",
       "      <td>False</td>\n",
       "      <td>False</td>\n",
       "      <td>False</td>\n",
       "      <td>...</td>\n",
       "      <td>False</td>\n",
       "      <td>False</td>\n",
       "      <td>True</td>\n",
       "      <td>False</td>\n",
       "      <td>False</td>\n",
       "      <td>False</td>\n",
       "      <td>True</td>\n",
       "      <td>False</td>\n",
       "      <td>False</td>\n",
       "      <td>False</td>\n",
       "    </tr>\n",
       "    <tr>\n",
       "      <th>2</th>\n",
       "      <td>37</td>\n",
       "      <td>1.0</td>\n",
       "      <td>0.0</td>\n",
       "      <td>0</td>\n",
       "      <td>False</td>\n",
       "      <td>False</td>\n",
       "      <td>False</td>\n",
       "      <td>False</td>\n",
       "      <td>False</td>\n",
       "      <td>False</td>\n",
       "      <td>...</td>\n",
       "      <td>False</td>\n",
       "      <td>False</td>\n",
       "      <td>True</td>\n",
       "      <td>False</td>\n",
       "      <td>False</td>\n",
       "      <td>False</td>\n",
       "      <td>True</td>\n",
       "      <td>False</td>\n",
       "      <td>False</td>\n",
       "      <td>False</td>\n",
       "    </tr>\n",
       "    <tr>\n",
       "      <th>3</th>\n",
       "      <td>40</td>\n",
       "      <td>0.0</td>\n",
       "      <td>0.0</td>\n",
       "      <td>0</td>\n",
       "      <td>False</td>\n",
       "      <td>False</td>\n",
       "      <td>False</td>\n",
       "      <td>False</td>\n",
       "      <td>False</td>\n",
       "      <td>False</td>\n",
       "      <td>...</td>\n",
       "      <td>False</td>\n",
       "      <td>False</td>\n",
       "      <td>True</td>\n",
       "      <td>False</td>\n",
       "      <td>True</td>\n",
       "      <td>False</td>\n",
       "      <td>False</td>\n",
       "      <td>False</td>\n",
       "      <td>False</td>\n",
       "      <td>False</td>\n",
       "    </tr>\n",
       "    <tr>\n",
       "      <th>4</th>\n",
       "      <td>56</td>\n",
       "      <td>0.0</td>\n",
       "      <td>1.0</td>\n",
       "      <td>0</td>\n",
       "      <td>False</td>\n",
       "      <td>False</td>\n",
       "      <td>False</td>\n",
       "      <td>False</td>\n",
       "      <td>False</td>\n",
       "      <td>False</td>\n",
       "      <td>...</td>\n",
       "      <td>False</td>\n",
       "      <td>False</td>\n",
       "      <td>True</td>\n",
       "      <td>False</td>\n",
       "      <td>False</td>\n",
       "      <td>False</td>\n",
       "      <td>True</td>\n",
       "      <td>False</td>\n",
       "      <td>False</td>\n",
       "      <td>False</td>\n",
       "    </tr>\n",
       "  </tbody>\n",
       "</table>\n",
       "<p>5 rows × 22 columns</p>\n",
       "</div>"
      ],
      "text/plain": [
       "   age  housing  loan  y  job_Blue-collar  job_Entrepreneur  job_Housemaid  \\\n",
       "0   56      0.0   0.0  0            False             False           True   \n",
       "1   57      0.0   0.0  0            False             False          False   \n",
       "2   37      1.0   0.0  0            False             False          False   \n",
       "3   40      0.0   0.0  0            False             False          False   \n",
       "4   56      0.0   1.0  0            False             False          False   \n",
       "\n",
       "   job_Management  job_Retired  job_Self-employed  ...  job_Technician  \\\n",
       "0           False        False              False  ...           False   \n",
       "1           False        False              False  ...           False   \n",
       "2           False        False              False  ...           False   \n",
       "3           False        False              False  ...           False   \n",
       "4           False        False              False  ...           False   \n",
       "\n",
       "   job_Unemployed  marital_Married  marital_Single  education_Basic 6y  \\\n",
       "0           False             True           False               False   \n",
       "1           False             True           False               False   \n",
       "2           False             True           False               False   \n",
       "3           False             True           False                True   \n",
       "4           False             True           False               False   \n",
       "\n",
       "   education_Basic 9y  education_High school  education_Illiterate  \\\n",
       "0               False                  False                 False   \n",
       "1               False                   True                 False   \n",
       "2               False                   True                 False   \n",
       "3               False                  False                 False   \n",
       "4               False                   True                 False   \n",
       "\n",
       "   education_Professional course  education_University degree  \n",
       "0                          False                        False  \n",
       "1                          False                        False  \n",
       "2                          False                        False  \n",
       "3                          False                        False  \n",
       "4                          False                        False  \n",
       "\n",
       "[5 rows x 22 columns]"
      ]
     },
     "execution_count": 84,
     "metadata": {},
     "output_type": "execute_result"
    }
   ],
   "source": [
    "demographics_columns = ['age', 'job', 'marital', 'education', 'housing', 'loan', 'y']\n",
    "\n",
    "df_encoded = pd.get_dummies(bank_df[demographics_columns],\\\n",
    "                            columns=['job', 'marital', 'education'], drop_first=True)\n",
    "df_encoded.head(5)"
   ]
  },
  {
   "cell_type": "markdown",
   "id": "dec7a285",
   "metadata": {},
   "source": [
    "The encoded DataFrame appears to be correctly structured for multivariate analysis.\n",
    "\n",
    "Let's look at the correlation matrix."
   ]
  },
  {
   "cell_type": "code",
   "execution_count": 85,
   "id": "1a6b6aef",
   "metadata": {},
   "outputs": [
    {
     "data": {
      "image/png": "[encoded data removed]",
      "text/plain": [
       "<Figure size 1200x800 with 2 Axes>"
      ]
     },
     "metadata": {},
     "output_type": "display_data"
    }
   ],
   "source": [
    "colors = [\"#F4A460\", \"#4682B4\"]\n",
    "\n",
    "custom_cmap = LinearSegmentedColormap.from_list(\"custom_diverging\", colors, N=100)\n",
    "\n",
    "corr_matrix = df_encoded.corr()\n",
    "\n",
    "plt.figure(figsize=(12, 8))\n",
    "sns.heatmap(corr_matrix, annot=True, fmt='.2f', cmap=custom_cmap, vmin=-1, vmax=1)\n",
    "plt.title('Correlation Matrix')\n",
    "plt.show()"
   ]
  },
  {
   "cell_type": "markdown",
   "id": "d3b9b2df",
   "metadata": {},
   "source": [
    "The correlation matrix reveals that the only strong correlation observed is a negative correlation between being single and married, which is expected.\n",
    "\n",
    "The absence of strong correlations among the other variables suggests that there isn't significant multicollinearity in the dataset. This means that the variables are relatively independent of each other, and it is appropriate to analyze them individually.\n",
    "\n",
    "Additionally, when examining the correlation between these variables and the target variable, none of the variables show a strong correlation with the target. This indicates that no single variable in this set is a strong predictor of the outcome on it's own."
   ]
  },
  {
   "cell_type": "markdown",
   "id": "61296d04",
   "metadata": {},
   "source": [
    "### 3.8 Summary of socio-demographic factors\n",
    "\n",
    "There is a difference between certain <strong>age groups</strong>, the most attractive ones for marketing campaigns seem to be:\n",
    "\n",
    "1. People over 60\n",
    "2. People aged 20-29\n",
    "3. People aged 30-39 and 50-59\n",
    "\n",
    "People in their 40s generally have less deposits in the bank and we would need more information about people up to 20 years.\n",
    "\n",
    "The top three groups of <strong>occupation</strong> based on our target variable are:\n",
    "\n",
    "1. Students\n",
    "2. Retired\n",
    "3. Unemployed\n",
    "\n",
    "And the three groups with the lowest proportion of our target variable are:\n",
    "\n",
    "1. Blue-collar\n",
    "2. Service\n",
    "3. Entrepreneurs\n",
    "\n",
    "<strong>Single people </strong>have a more than 35% larger proportion of deposits in our dataset and the results are statistically significant.\n",
    "<br>\n",
    "The top three <strong>education </strong>groups with the highest amount of deposits proportionally are:\n",
    "\n",
    "1. People with University degrees\n",
    "2. People with professional certificates\n",
    "3. People who at least finished high school\n",
    "\n",
    "While the three lower groups are the ones with 9, 6 or 4 years of basic schooling.\n",
    "<br>\n",
    "Although the results are less significant compared to other attributes, having a <strong>housing loan </strong>relates to an almost 7% increase in the frequency of our target variable."
   ]
  },
  {
   "cell_type": "markdown",
   "id": "b52d708c",
   "metadata": {},
   "source": [
    "## 4. Campaign data analysis\n",
    "\n",
    "Let's start by looking at some summary statistics for the related variables."
   ]
  },
  {
   "cell_type": "code",
   "execution_count": 86,
   "id": "8d1ea0a3",
   "metadata": {},
   "outputs": [
    {
     "data": {
      "text/html": [
       "<div>\n",
       "<style scoped>\n",
       "    .dataframe tbody tr th:only-of-type {\n",
       "        vertical-align: middle;\n",
       "    }\n",
       "\n",
       "    .dataframe tbody tr th {\n",
       "        vertical-align: top;\n",
       "    }\n",
       "\n",
       "    .dataframe thead th {\n",
       "        text-align: right;\n",
       "    }\n",
       "</style>\n",
       "<table border=\"1\" class=\"dataframe\">\n",
       "  <thead>\n",
       "    <tr style=\"text-align: right;\">\n",
       "      <th></th>\n",
       "      <th>duration</th>\n",
       "      <th>campaign</th>\n",
       "      <th>pdays</th>\n",
       "      <th>previous</th>\n",
       "    </tr>\n",
       "  </thead>\n",
       "  <tbody>\n",
       "    <tr>\n",
       "      <th>count</th>\n",
       "      <td>41188.000000</td>\n",
       "      <td>41188.000000</td>\n",
       "      <td>1515.000000</td>\n",
       "      <td>41188.000000</td>\n",
       "    </tr>\n",
       "    <tr>\n",
       "      <th>mean</th>\n",
       "      <td>258.285010</td>\n",
       "      <td>2.567593</td>\n",
       "      <td>6.014521</td>\n",
       "      <td>0.172963</td>\n",
       "    </tr>\n",
       "    <tr>\n",
       "      <th>std</th>\n",
       "      <td>259.279249</td>\n",
       "      <td>2.770014</td>\n",
       "      <td>3.824906</td>\n",
       "      <td>0.494901</td>\n",
       "    </tr>\n",
       "    <tr>\n",
       "      <th>min</th>\n",
       "      <td>0.000000</td>\n",
       "      <td>1.000000</td>\n",
       "      <td>0.000000</td>\n",
       "      <td>0.000000</td>\n",
       "    </tr>\n",
       "    <tr>\n",
       "      <th>25%</th>\n",
       "      <td>102.000000</td>\n",
       "      <td>1.000000</td>\n",
       "      <td>3.000000</td>\n",
       "      <td>0.000000</td>\n",
       "    </tr>\n",
       "    <tr>\n",
       "      <th>50%</th>\n",
       "      <td>180.000000</td>\n",
       "      <td>2.000000</td>\n",
       "      <td>6.000000</td>\n",
       "      <td>0.000000</td>\n",
       "    </tr>\n",
       "    <tr>\n",
       "      <th>75%</th>\n",
       "      <td>319.000000</td>\n",
       "      <td>3.000000</td>\n",
       "      <td>7.000000</td>\n",
       "      <td>0.000000</td>\n",
       "    </tr>\n",
       "    <tr>\n",
       "      <th>max</th>\n",
       "      <td>4918.000000</td>\n",
       "      <td>56.000000</td>\n",
       "      <td>27.000000</td>\n",
       "      <td>7.000000</td>\n",
       "    </tr>\n",
       "  </tbody>\n",
       "</table>\n",
       "</div>"
      ],
      "text/plain": [
       "           duration      campaign        pdays      previous\n",
       "count  41188.000000  41188.000000  1515.000000  41188.000000\n",
       "mean     258.285010      2.567593     6.014521      0.172963\n",
       "std      259.279249      2.770014     3.824906      0.494901\n",
       "min        0.000000      1.000000     0.000000      0.000000\n",
       "25%      102.000000      1.000000     3.000000      0.000000\n",
       "50%      180.000000      2.000000     6.000000      0.000000\n",
       "75%      319.000000      3.000000     7.000000      0.000000\n",
       "max     4918.000000     56.000000    27.000000      7.000000"
      ]
     },
     "execution_count": 86,
     "metadata": {},
     "output_type": "execute_result"
    }
   ],
   "source": [
    "bank_df[['duration', 'campaign', 'pdays', 'previous']].describe()"
   ]
  },
  {
   "cell_type": "markdown",
   "id": "a99b1693",
   "metadata": {},
   "source": [
    "The mean contact duration is about 4 minutes and 20 seconds, but can go up to about 82 minutes. \n",
    "\n",
    "The number of contacts ranges from 1 to 56 and is about 2.8 on average.\n",
    "\n",
    "The number of days that passed by after the client was last contacted from a previous campaign ranges from 0 meaning that they weren't contacted before up to 27 days. On average it's around 6 days.\n",
    "\n",
    "The number of contacts performed before this campaign and for this client ranges from 0 to 7 and is just 0.17 on average."
   ]
  },
  {
   "cell_type": "markdown",
   "id": "804a1fc5",
   "metadata": {},
   "source": [
    "### 4.1 Contact"
   ]
  },
  {
   "cell_type": "code",
   "execution_count": 87,
   "id": "630d50a3",
   "metadata": {},
   "outputs": [
    {
     "data": {
      "text/plain": [
       "contact\n",
       "Cellular     63.47\n",
       "Telephone    36.53\n",
       "Name: proportion, dtype: float64"
      ]
     },
     "execution_count": 87,
     "metadata": {},
     "output_type": "execute_result"
    }
   ],
   "source": [
    "contact = bank_df['contact'].value_counts(normalize=True)*100\n",
    "contact.round(2)"
   ]
  },
  {
   "cell_type": "markdown",
   "id": "12a6aaab",
   "metadata": {},
   "source": [
    "About 63.5% of the last contacts were made with cellular phone calls."
   ]
  },
  {
   "cell_type": "code",
   "execution_count": 88,
   "id": "52799965",
   "metadata": {},
   "outputs": [
    {
     "data": {
      "text/html": [
       "<div>\n",
       "<style scoped>\n",
       "    .dataframe tbody tr th:only-of-type {\n",
       "        vertical-align: middle;\n",
       "    }\n",
       "\n",
       "    .dataframe tbody tr th {\n",
       "        vertical-align: top;\n",
       "    }\n",
       "\n",
       "    .dataframe thead th {\n",
       "        text-align: right;\n",
       "    }\n",
       "</style>\n",
       "<table border=\"1\" class=\"dataframe\">\n",
       "  <thead>\n",
       "    <tr style=\"text-align: right;\">\n",
       "      <th>y</th>\n",
       "      <th>0</th>\n",
       "      <th>1</th>\n",
       "    </tr>\n",
       "    <tr>\n",
       "      <th>contact</th>\n",
       "      <th></th>\n",
       "      <th></th>\n",
       "    </tr>\n",
       "  </thead>\n",
       "  <tbody>\n",
       "    <tr>\n",
       "      <th>Cellular</th>\n",
       "      <td>0.852624</td>\n",
       "      <td>0.147376</td>\n",
       "    </tr>\n",
       "    <tr>\n",
       "      <th>Telephone</th>\n",
       "      <td>0.947687</td>\n",
       "      <td>0.052313</td>\n",
       "    </tr>\n",
       "  </tbody>\n",
       "</table>\n",
       "</div>"
      ],
      "text/plain": [
       "y                 0         1\n",
       "contact                      \n",
       "Cellular   0.852624  0.147376\n",
       "Telephone  0.947687  0.052313"
      ]
     },
     "execution_count": 88,
     "metadata": {},
     "output_type": "execute_result"
    }
   ],
   "source": [
    "counts = bank_df.groupby(['contact', 'y']).size().unstack()\n",
    "proportions = counts.div(counts.sum(axis=1), axis=0)\n",
    "\n",
    "proportions"
   ]
  },
  {
   "cell_type": "markdown",
   "id": "bb644fa6",
   "metadata": {},
   "source": [
    "We can see a huge difference in the numbers for this attribute, cellular contact type has nearly three times the proportion of successful outcomes or an increase of 182.7%."
   ]
  },
  {
   "cell_type": "markdown",
   "id": "a2879ea8",
   "metadata": {},
   "source": [
    "### 4.2 Month"
   ]
  },
  {
   "cell_type": "code",
   "execution_count": 89,
   "id": "a3e761eb",
   "metadata": {},
   "outputs": [
    {
     "data": {
      "text/plain": [
       "month\n",
       "May    13769\n",
       "Jul     7174\n",
       "Aug     6178\n",
       "Jun     5318\n",
       "Nov     4101\n",
       "Apr     2632\n",
       "Oct      718\n",
       "Sep      570\n",
       "Mar      546\n",
       "Dec      182\n",
       "Name: count, dtype: int64"
      ]
     },
     "execution_count": 89,
     "metadata": {},
     "output_type": "execute_result"
    }
   ],
   "source": [
    "bank_df['month'].value_counts()"
   ]
  },
  {
   "cell_type": "markdown",
   "id": "af547e2d",
   "metadata": {},
   "source": [
    "Most of the data comes from the months April to August and then has another spike on November while there is no data for January and February."
   ]
  },
  {
   "cell_type": "code",
   "execution_count": 90,
   "id": "d04ac771",
   "metadata": {},
   "outputs": [
    {
     "data": {
      "text/html": [
       "<div>\n",
       "<style scoped>\n",
       "    .dataframe tbody tr th:only-of-type {\n",
       "        vertical-align: middle;\n",
       "    }\n",
       "\n",
       "    .dataframe tbody tr th {\n",
       "        vertical-align: top;\n",
       "    }\n",
       "\n",
       "    .dataframe thead th {\n",
       "        text-align: right;\n",
       "    }\n",
       "</style>\n",
       "<table border=\"1\" class=\"dataframe\">\n",
       "  <thead>\n",
       "    <tr style=\"text-align: right;\">\n",
       "      <th>y</th>\n",
       "      <th>0</th>\n",
       "      <th>1</th>\n",
       "    </tr>\n",
       "    <tr>\n",
       "      <th>month</th>\n",
       "      <th></th>\n",
       "      <th></th>\n",
       "    </tr>\n",
       "  </thead>\n",
       "  <tbody>\n",
       "    <tr>\n",
       "      <th>Mar</th>\n",
       "      <td>0.494505</td>\n",
       "      <td>0.505495</td>\n",
       "    </tr>\n",
       "    <tr>\n",
       "      <th>Dec</th>\n",
       "      <td>0.510989</td>\n",
       "      <td>0.489011</td>\n",
       "    </tr>\n",
       "    <tr>\n",
       "      <th>Sep</th>\n",
       "      <td>0.550877</td>\n",
       "      <td>0.449123</td>\n",
       "    </tr>\n",
       "    <tr>\n",
       "      <th>Oct</th>\n",
       "      <td>0.561281</td>\n",
       "      <td>0.438719</td>\n",
       "    </tr>\n",
       "    <tr>\n",
       "      <th>Apr</th>\n",
       "      <td>0.795213</td>\n",
       "      <td>0.204787</td>\n",
       "    </tr>\n",
       "    <tr>\n",
       "      <th>Aug</th>\n",
       "      <td>0.893979</td>\n",
       "      <td>0.106021</td>\n",
       "    </tr>\n",
       "    <tr>\n",
       "      <th>Jun</th>\n",
       "      <td>0.894885</td>\n",
       "      <td>0.105115</td>\n",
       "    </tr>\n",
       "    <tr>\n",
       "      <th>Nov</th>\n",
       "      <td>0.898561</td>\n",
       "      <td>0.101439</td>\n",
       "    </tr>\n",
       "    <tr>\n",
       "      <th>Jul</th>\n",
       "      <td>0.909534</td>\n",
       "      <td>0.090466</td>\n",
       "    </tr>\n",
       "    <tr>\n",
       "      <th>May</th>\n",
       "      <td>0.935653</td>\n",
       "      <td>0.064347</td>\n",
       "    </tr>\n",
       "  </tbody>\n",
       "</table>\n",
       "</div>"
      ],
      "text/plain": [
       "y             0         1\n",
       "month                    \n",
       "Mar    0.494505  0.505495\n",
       "Dec    0.510989  0.489011\n",
       "Sep    0.550877  0.449123\n",
       "Oct    0.561281  0.438719\n",
       "Apr    0.795213  0.204787\n",
       "Aug    0.893979  0.106021\n",
       "Jun    0.894885  0.105115\n",
       "Nov    0.898561  0.101439\n",
       "Jul    0.909534  0.090466\n",
       "May    0.935653  0.064347"
      ]
     },
     "execution_count": 90,
     "metadata": {},
     "output_type": "execute_result"
    }
   ],
   "source": [
    "counts = bank_df.groupby(['month', 'y']).size().unstack()\n",
    "proportions = counts.div(counts.sum(axis=1), axis=0)\n",
    "\n",
    "proportions.sort_values(by=0)"
   ]
  },
  {
   "cell_type": "markdown",
   "id": "eb37ab6d",
   "metadata": {},
   "source": [
    "As we can see the top four months are the ones with the least amount of datapoints and could potentially introduce bias. Let's focus on the six months that are the most representative."
   ]
  },
  {
   "cell_type": "code",
   "execution_count": 91,
   "id": "96934815",
   "metadata": {
    "scrolled": true
   },
   "outputs": [],
   "source": [
    "proportions = proportions.drop(['Dec', 'Mar', 'Sep', 'Oct'])\n",
    "proportions = proportions.sort_values(by=0)"
   ]
  },
  {
   "cell_type": "code",
   "execution_count": 92,
   "id": "9b0371ad",
   "metadata": {
    "scrolled": false
   },
   "outputs": [
    {
     "data": {
      "image/png": "[encoded data removed]",
      "text/plain": [
       "<Figure size 1000x600 with 1 Axes>"
      ]
     },
     "metadata": {},
     "output_type": "display_data"
    }
   ],
   "source": [
    "plt.figure(figsize=(10, 6))\n",
    "\n",
    "plt.bar(proportions.index, proportions[0], label='y=0', color='steelblue')\n",
    "\n",
    "plt.bar(proportions.index, proportions[1], bottom=proportions[0], label='y=1', color='sandybrown')\n",
    "\n",
    "plt.title('Proportion of y=0 and y=1 Across Months of interest', fontsize=16)\n",
    "plt.xlabel('Month', fontsize=14)\n",
    "plt.ylabel('Proportion', fontsize=14)\n",
    "plt.legend(title='y', loc='upper right')\n",
    "plt.xticks(rotation=45)\n",
    "\n",
    "plt.show()"
   ]
  },
  {
   "cell_type": "markdown",
   "id": "f68e4490",
   "metadata": {},
   "source": [
    "Now we see that four of the six months are similar in proportion of our target value except for April which has almost double the successful outcome and May which about a third less."
   ]
  },
  {
   "cell_type": "code",
   "execution_count": 93,
   "id": "6df66ac0",
   "metadata": {},
   "outputs": [
    {
     "data": {
      "text/html": [
       "<div>\n",
       "<style scoped>\n",
       "    .dataframe tbody tr th:only-of-type {\n",
       "        vertical-align: middle;\n",
       "    }\n",
       "\n",
       "    .dataframe tbody tr th {\n",
       "        vertical-align: top;\n",
       "    }\n",
       "\n",
       "    .dataframe thead th {\n",
       "        text-align: right;\n",
       "    }\n",
       "</style>\n",
       "<table border=\"1\" class=\"dataframe\">\n",
       "  <thead>\n",
       "    <tr style=\"text-align: right;\">\n",
       "      <th>y</th>\n",
       "      <th>0</th>\n",
       "      <th>1</th>\n",
       "    </tr>\n",
       "    <tr>\n",
       "      <th>month</th>\n",
       "      <th></th>\n",
       "      <th></th>\n",
       "    </tr>\n",
       "  </thead>\n",
       "  <tbody>\n",
       "    <tr>\n",
       "      <th>May</th>\n",
       "      <td>12883</td>\n",
       "      <td>886</td>\n",
       "    </tr>\n",
       "    <tr>\n",
       "      <th>Aug</th>\n",
       "      <td>5523</td>\n",
       "      <td>655</td>\n",
       "    </tr>\n",
       "    <tr>\n",
       "      <th>Jul</th>\n",
       "      <td>6525</td>\n",
       "      <td>649</td>\n",
       "    </tr>\n",
       "    <tr>\n",
       "      <th>Jun</th>\n",
       "      <td>4759</td>\n",
       "      <td>559</td>\n",
       "    </tr>\n",
       "    <tr>\n",
       "      <th>Apr</th>\n",
       "      <td>2093</td>\n",
       "      <td>539</td>\n",
       "    </tr>\n",
       "    <tr>\n",
       "      <th>Nov</th>\n",
       "      <td>3685</td>\n",
       "      <td>416</td>\n",
       "    </tr>\n",
       "  </tbody>\n",
       "</table>\n",
       "</div>"
      ],
      "text/plain": [
       "y          0    1\n",
       "month            \n",
       "May    12883  886\n",
       "Aug     5523  655\n",
       "Jul     6525  649\n",
       "Jun     4759  559\n",
       "Apr     2093  539\n",
       "Nov     3685  416"
      ]
     },
     "execution_count": 93,
     "metadata": {},
     "output_type": "execute_result"
    }
   ],
   "source": [
    "months_of_interest = ['Apr', 'Aug', 'Jul', 'Jun', 'May', 'Nov']\n",
    "contingency_table = pd.crosstab(bank_df['month'][bank_df['month'].isin(months_of_interest)], bank_df['y'])\n",
    "contingency_table.sort_values(by=1, ascending=False)"
   ]
  },
  {
   "cell_type": "code",
   "execution_count": 94,
   "id": "db6b09dd",
   "metadata": {},
   "outputs": [
    {
     "data": {
      "text/plain": [
       "540.3827099615903"
      ]
     },
     "execution_count": 94,
     "metadata": {},
     "output_type": "execute_result"
    }
   ],
   "source": [
    "chi2, p, dof, ex = chi2_contingency(contingency_table)\n",
    "chi2"
   ]
  },
  {
   "cell_type": "code",
   "execution_count": 95,
   "id": "d68f4672",
   "metadata": {
    "scrolled": true
   },
   "outputs": [
    {
     "data": {
      "text/plain": [
       "1.5263890694909228e-114"
      ]
     },
     "execution_count": 95,
     "metadata": {},
     "output_type": "execute_result"
    }
   ],
   "source": [
    "p"
   ]
  },
  {
   "cell_type": "markdown",
   "id": "122b7448",
   "metadata": {},
   "source": [
    "As one might expect the results are very statistically significant in this case. April is a much better month for campaigns and May is much worse based on our data, although this would need further investigation as this is the month of last contact only."
   ]
  },
  {
   "cell_type": "markdown",
   "id": "b3a7ed01",
   "metadata": {},
   "source": [
    "### 4.3 Day of week"
   ]
  },
  {
   "cell_type": "code",
   "execution_count": 96,
   "id": "87031c53",
   "metadata": {},
   "outputs": [
    {
     "data": {
      "text/plain": [
       "day_of_week\n",
       "Thu    8623\n",
       "Mon    8514\n",
       "Wed    8134\n",
       "Tue    8090\n",
       "Fri    7827\n",
       "Name: count, dtype: int64"
      ]
     },
     "execution_count": 96,
     "metadata": {},
     "output_type": "execute_result"
    }
   ],
   "source": [
    "bank_df['day_of_week'].value_counts()"
   ]
  },
  {
   "cell_type": "code",
   "execution_count": 99,
   "id": "784dc211",
   "metadata": {},
   "outputs": [
    {
     "data": {
      "image/png": "[encoded data removed]",
      "text/plain": [
       "<Figure size 1000x600 with 1 Axes>"
      ]
     },
     "metadata": {},
     "output_type": "display_data"
    }
   ],
   "source": [
    "dow_counts = bank_df['day_of_week'].value_counts().sort_values(ascending=False)\n",
    "\n",
    "colors = sns.color_palette(\"Spectral_r\", len(dow_counts))\n",
    "\n",
    "plt.figure(figsize=(10, 6))\n",
    "sns.barplot(x=dow_counts.index, y=dow_counts.values, palette=colors)\n",
    "plt.title('Distribution by Occupation', fontsize=16)\n",
    "plt.xlabel('Occupation', fontsize=14)\n",
    "plt.ylabel('Number of Individuals', fontsize=14)\n",
    "plt.xticks(rotation=45)\n",
    "plt.show()"
   ]
  }
 ],
 "metadata": {
  "kernelspec": {
   "display_name": "Python 3 (ipykernel)",
   "language": "python",
   "name": "python3"
  },
  "language_info": {
   "codemirror_mode": {
    "name": "ipython",
    "version": 3
   },
   "file_extension": ".py",
   "mimetype": "text/x-python",
   "name": "python",
   "nbconvert_exporter": "python",
   "pygments_lexer": "ipython3",
   "version": "3.11.5"
  }
 },
 "nbformat": 4,
 "nbformat_minor": 5
}
